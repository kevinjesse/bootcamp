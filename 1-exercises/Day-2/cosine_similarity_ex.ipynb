{
 "cells": [
  {
   "cell_type": "code",
   "execution_count": null,
   "metadata": {},
   "outputs": [],
   "source": [
    "import numpy as np\n",
    "import matplotlib.pyplot as plt\n",
    "\n",
    "# Function to compute cosine similarity\n",
    "def cosine_similarity(vec1, vec2):\n",
    "    # Normalize vectors to unit norm\n",
    "    unit_vec1 = vec1 / np.linalg.norm(vec1)\n",
    "    unit_vec2 = vec2 / np.linalg.norm(vec2)\n",
    "    \n",
    "    # Cosine similarity is the dot product of the unit vectors\n",
    "    cos_sim = np.dot(unit_vec1, unit_vec2)\n",
    "    \n",
    "    # Angle in radians\n",
    "    angle_radians = np.arccos(cos_sim)\n",
    "    \n",
    "    # Convert angle to degrees\n",
    "    angle_degrees = np.degrees(angle_radians)\n",
    "    \n",
    "    return cos_sim, angle_degrees, unit_vec1, unit_vec2\n",
    "\n",
    "# Example vectors\n",
    "vec1 = np.array([1, 2])\n",
    "vec2 = np.array([2, 3])\n",
    "\n",
    "# Compute cosine similarity and angle\n",
    "cos_sim, angle_degrees, unit_vec1, unit_vec2 = cosine_similarity(vec1, vec2)\n",
    "\n",
    "print(f\"Cosine Similarity: {cos_sim:.4f}\")\n",
    "print(f\"Angle between vectors: {angle_degrees:.2f} degrees\")\n",
    "\n",
    "# Visualization\n",
    "fig, ax = plt.subplots()\n",
    "\n",
    "# Plotting the original vectors\n",
    "ax.quiver(0, 0, vec1[0], vec1[1], angles='xy', scale_units='xy', scale=1, color='r', label='Vector 1')\n",
    "ax.quiver(0, 0, vec2[0], vec2[1], angles='xy', scale_units='xy', scale=1, color='b', label='Vector 2')\n",
    "\n",
    "# Setting the axes limits\n",
    "ax.set_xlim(0, 4)\n",
    "ax.set_ylim(0, 4)\n",
    "\n",
    "# Adding labels and legend\n",
    "plt.axhline(0, color='black',linewidth=0.5)\n",
    "plt.axvline(0, color='black',linewidth=0.5)\n",
    "plt.grid(True)\n",
    "plt.legend()\n",
    "plt.title(f\"Cosine Similarity: {cos_sim:.4f}, Angle: {angle_degrees:.2f} degrees\")\n",
    "\n",
    "# Show the plot\n",
    "plt.show()\n"
   ]
  }
 ],
 "metadata": {
  "kernelspec": {
   "display_name": "venv",
   "language": "python",
   "name": "python3"
  },
  "language_info": {
   "codemirror_mode": {
    "name": "ipython",
    "version": 3
   },
   "file_extension": ".py",
   "mimetype": "text/x-python",
   "name": "python",
   "nbconvert_exporter": "python",
   "pygments_lexer": "ipython3",
   "version": "3.12.4"
  }
 },
 "nbformat": 4,
 "nbformat_minor": 2
}
