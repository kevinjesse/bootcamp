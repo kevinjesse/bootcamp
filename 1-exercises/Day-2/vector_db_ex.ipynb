{
 "cells": [
  {
   "cell_type": "code",
   "execution_count": 1,
   "id": "077a54f3-d587-4888-9181-db8f6d8ee10b",
   "metadata": {},
   "outputs": [],
   "source": [
    "from typing import Dict, List\n",
    "\n",
    "import numpy as np\n",
    "import pprint\n",
    "from langchain.embeddings.sentence_transformer import SentenceTransformerEmbeddings"
   ]
  },
  {
   "cell_type": "code",
   "execution_count": 3,
   "id": "65f61a53-351b-409d-95f3-180bebc40a6e",
   "metadata": {
    "scrolled": true
   },
   "outputs": [],
   "source": [
    "# Our sample documents to turn into Vector Embeddings\n",
    "sample_docs = [\n",
    "    \"Pigs are stout-bodied, short-legged, omnivorous mammals, with thick skin usually sparsely coated with short bristles\",\n",
    "    \"Cows are four-footed and have a large body. It has two horns, two eyes plus two ears and one nose and a mouth. Cows are herbivorous animals.\",\n",
    "    \"Chickens are average-sized fowls, characterized by smaller heads, short beaks and wings, and a round body perched on featherless legs.\",\n",
    "    \"NumPy (Numerical Python) is an open source Python library that's used in almost every field of science and engineering. It's the universal standard for working with numerical data in Python, and it's at the core of the scientific Python and PyData ecosystems.\"\n",
    "]\n",
    "\n",
    "# The Embedding function, which is a Neural Network taking in text and outputting vectors\n",
    "embedding_function = SentenceTransformerEmbeddings(\n",
    "    model_name=\"BAAI/bge-large-en-v1.5\",\n",
    "    # model_kwargs = {'device': 'cuda'},\n",
    "    model_kwargs = {'device': 'cpu'},\n",
    "    encode_kwargs = {'normalize_embeddings': True}\n",
    ")"
   ]
  },
  {
   "cell_type": "code",
   "execution_count": 4,
   "id": "f94c6570-2ce5-4fc1-ba05-c23a85759835",
   "metadata": {},
   "outputs": [
    {
     "name": "stdout",
     "output_type": "stream",
     "text": [
      "First 5 dimensions for embedding of Pigs are stout-bodied, short-legged, omnivorous mammals, with thick skin usually sparsely coated with short bristles:\n",
      "\t [ 0.03743296  0.00983476  0.05154186 -0.03185306 -0.01204163]\n",
      "Embedding Dimension: (1024,)\n",
      "--------------------------------------------------------------------------------\n"
     ]
    }
   ],
   "source": [
    "embeddings = np.array(embedding_function.embed_documents(texts = sample_docs))\n",
    "for i, embedding in enumerate(embeddings[:1]):\n",
    "    print(f\"First 5 dimensions for embedding of {sample_docs[i]}:\")\n",
    "    print(f\"\\t {embeddings[i,:5]}\") # Only printing the first 5 to shorten it\n",
    "    print(f\"Embedding Dimension: {embeddings[i].shape}\")\n",
    "    print(\"-\" * 80)"
   ]
  },
  {
   "cell_type": "markdown",
   "id": "ecd3daa7-6c7e-4479-9bdb-183c78fc345a",
   "metadata": {},
   "source": [
    "## Retrieving Relevant Documents via Vector Similarity\n",
    "\n",
    "A key property of these embeddings is that in the vector space, two semantically similar vectors should be close, while non-similar concepts should be far or 0.  The metric used for measuring often depends on how the model is trained.  For this model, we will use cosine similarity.\n",
    "\n",
    "With the embeddings we can compute how similar any two documents are by computing the cosine similarity between their vector embeddings."
   ]
  },
  {
   "cell_type": "code",
   "execution_count": 5,
   "id": "9d956038-2da4-4334-b8cd-8844f03a4ac0",
   "metadata": {},
   "outputs": [
    {
     "name": "stdout",
     "output_type": "stream",
     "text": [
      "Similarity between Pigs are stout-bodie... and Cows are four-footed...: 0.6423076099256174\n",
      "Similarity between Pigs are stout-bodie... and Chickens are average...: 0.6509346820235993\n",
      "Similarity between Cows are four-footed... and Chickens are average...: 0.6070802604727121\n",
      "Similarity between Pigs are stout-bodie... and NumPy (Numerical Pyt...: 0.3806830482417314\n",
      "Similarity between Cows are four-footed... and NumPy (Numerical Pyt...: 0.35324548971637787\n",
      "Similarity between Chickens are average... and NumPy (Numerical Pyt...: 0.36846483482141795\n"
     ]
    }
   ],
   "source": [
    "norms = np.linalg.norm(embeddings, axis = 1)\n",
    "cosine_similarities = (embeddings @ embeddings.T) / (norms.T * norms)\n",
    "for i in range(len(sample_docs)):\n",
    "    for j in range(i):\n",
    "        print(f\"Similarity between {sample_docs[j][:20]}... and {sample_docs[i][:20]}...: {cosine_similarities[j][i]}\")"
   ]
  },
  {
   "cell_type": "markdown",
   "id": "7824cc72-f9a4-4096-9c40-7a17d2ef2202",
   "metadata": {},
   "source": [
    "As a simple eye test, we can see here that the first three documents have high cosine similarities, while each of their relationship with the description of numpy is lower."
   ]
  },
  {
   "cell_type": "markdown",
   "id": "895c685b-1678-45b7-9ed3-708fc2140601",
   "metadata": {},
   "source": [
    "## Simplest Vector Search System\n",
    "\n",
    "With only these tools, we have enough to technically build a semantic search system."
   ]
  },
  {
   "cell_type": "code",
   "execution_count": 7,
   "id": "75a968c8-9c61-4b2b-85b1-d7e15132b807",
   "metadata": {},
   "outputs": [],
   "source": [
    "embedding_function = SentenceTransformerEmbeddings(\n",
    "    model_name=\"BAAI/bge-large-en-v1.5\",\n",
    "    # model_kwargs = {'device': 'cuda'},\n",
    "    model_kwargs = {'device': 'cpu'},\n",
    "    encode_kwargs = {'normalize_embeddings': True}\n",
    ")\n",
    "sample_docs = [\n",
    "    \"Pigs are stout-bodied, short-legged, omnivorous mammals, with thick skin usually sparsely coated with short bristles\",\n",
    "    \"Cows are four-footed and have a large body. It has two horns, two eyes plus two ears and one nose and a mouth. Cows are herbivorous animals.\",\n",
    "    \"Chickens are average-sized fowls, characterized by smaller heads, short beaks and wings, and a round body perched on featherless legs.\",\n",
    "    \"NumPy (Numerical Python) is an open source Python library that's used in almost every field of science and engineering. It's the universal standard for working with numerical data in Python, and it's at the core of the scientific Python and PyData ecosystems.\"\n",
    "]\n",
    "\n",
    "def embed_documents(docs: List[str]) -> np.ndarray:\n",
    "    \"\"\"embed all of our documents, only done once\"\"\"\n",
    "    return np.array(embedding_function.embed_documents(docs))\n",
    "\n",
    "def embed_query(query: str) -> np.ndarray:\n",
    "    \"\"\"embed the query, done on demand\"\"\"\n",
    "    return np.array(embedding_function.embed_documents([query]))[0,:]\n",
    "\n",
    "def retrieve_relevant_documents(doc_embeddings : np.ndarray, query_embedding : np.ndarray, k : int = 1) -> List[Dict[str, float]]:\n",
    "    \"\"\"compute cosine similarity between query and documents, return top k and their scores\"\"\"\n",
    "    cosine_similarities = (doc_embeddings @ query_embedding) / (np.linalg.norm(doc_embeddings, axis = 1).T * np.linalg.norm(query_embedding))\n",
    "    sim_scores = np.argsort(cosine_similarities)\n",
    "    return [{'document' : sample_docs[i], 'score' : cosine_similarities[i]} for i in sim_scores[::-1][:k]]\n",
    "                    "
   ]
  },
  {
   "cell_type": "markdown",
   "id": "41e403c4-e91c-4a11-944e-910b92b534c3",
   "metadata": {},
   "source": [
    "First we embed our documents, typically done offline"
   ]
  },
  {
   "cell_type": "code",
   "execution_count": 8,
   "id": "7122ca49-acaf-4ab9-b6b9-0e189fd15b74",
   "metadata": {},
   "outputs": [],
   "source": [
    "doc_embeddings = embed_documents(sample_docs)"
   ]
  },
  {
   "cell_type": "markdown",
   "id": "ebb50071-2988-420d-aad4-35bc1cd4c292",
   "metadata": {},
   "source": [
    "Then for every query:\n",
    "1. embed the query\n",
    "2. compute the similarity score between the query and the documents\n",
    "3. return the top k most similar documents"
   ]
  },
  {
   "cell_type": "code",
   "execution_count": 10,
   "id": "9982d063-8056-4532-b3a1-3c3dc4127930",
   "metadata": {},
   "outputs": [
    {
     "name": "stdout",
     "output_type": "stream",
     "text": [
      "[{'document': 'Chickens are average-sized fowls, characterized by smaller '\n",
      "              'heads, short beaks and wings, and a round body perched on '\n",
      "              'featherless legs.',\n",
      "  'score': 0.7052902283407293},\n",
      " {'document': 'Cows are four-footed and have a large body. It has two horns, '\n",
      "              'two eyes plus two ears and one nose and a mouth. Cows are '\n",
      "              'herbivorous animals.',\n",
      "  'score': 0.526725074842122}]\n"
     ]
    }
   ],
   "source": [
    "query_embedding = embed_query(\"What is a chicken?\")\n",
    "\n",
    "relevant_docs = retrieve_relevant_documents(doc_embeddings, query_embedding, k = 2)\n",
    "pprint.pprint(relevant_docs)"
   ]
  }
 ],
 "metadata": {
  "kernelspec": {
   "display_name": "Python 3",
   "language": "python",
   "name": "python3"
  },
  "language_info": {
   "codemirror_mode": {
    "name": "ipython",
    "version": 3
   },
   "file_extension": ".py",
   "mimetype": "text/x-python",
   "name": "python",
   "nbconvert_exporter": "python",
   "pygments_lexer": "ipython3",
   "version": "3.12.4"
  }
 },
 "nbformat": 4,
 "nbformat_minor": 5
}
