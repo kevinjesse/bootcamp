{
 "cells": [
  {
   "cell_type": "code",
   "execution_count": 1,
   "id": "bd2cd0b1-90aa-4535-bb09-449e73cb64c0",
   "metadata": {},
   "outputs": [],
   "source": [
    "from typing import List, Dict"
   ]
  },
  {
   "cell_type": "markdown",
   "id": "c5f7b71f-22f3-4a68-8d50-7b3aaaf73fe8",
   "metadata": {},
   "source": [
    "# Document Embeddings and Vector Databases\n",
    "\n",
    "A fundamental part of Retrieval Augmented Generation (RAG) based systems is the ability to search for documents that are relevant to a given query.  By retrieving these relevant documents, we can inject our prompts with further contextual information, allowing for the LLMs to provide better, grounded answers, often without the need for the LLM to be finetuned off of the data.\n",
    "\n",
    "In this notebook, we will demonstrate the concepts of how to build the semantic search system which powers the search and retrieval for RAG.  Broadly, the steps will be:\n",
    "\n",
    "1. Vector Embeddings Conceptually\n",
    "    - Turning Documents into Vector Embeddings via Neural Networks\n",
    "    - Retrieving Relevant Documents via Vector Similarity\n",
    "    - Simple Vector Based Retrieval System\n",
    "2. More Robust Solution using LangChain and PGVector\n",
    "    - Creating a Vector Embedding Database using LangChain and PGVector\n",
    "    - Query the Embedding Database using LangChain and PGVector"
   ]
  },
  {
   "cell_type": "markdown",
   "id": "5a72e2ea-4066-41f3-ad65-8cffe5cbbb45",
   "metadata": {},
   "source": [
    "## 1. Vector Embeddings Conceptually\n",
    "\n",
    "Document retrieval and search systems can be built off of simple heuristic concepts such as the occurence of common words, word counts, dictionaries of synonyms, etc.  Depending on the problem, this can often work fine, however for natural language, this is generally insufficient because of the semantic meaning of words, where the literal words do not carry the meaning or the concept.  As an example, the words \"pencil\" and \"eraser\" are conceptually similar to each other, both relevant to writing, however in a naive literal search system, there is almost nothing linking the two without additional context.  This problem has lead to the development of semantic search [https://en.wikipedia.org/wiki/Semantic_search], which aims to build search systems for natural language capturing \"semantic\" meaning of words.\n",
    "\n",
    "\n",
    "One of the best solutions to pop up for capturing semantics is **Vector Embeddings**, which is the idea that any type of data can be mapped into a vector space, via some embedding function, where in the new space, similar data points are \"close\" to each other.  The problem then becomes, how do you learn this embedding function?  Without diving into too much detail, it turns out that Neural Networks and Deep Learning are able to learn pretty good embedding functions."
   ]
  },
  {
   "cell_type": "markdown",
   "id": "bbfc40c8-bfac-45ca-a3fe-01d4a21873ba",
   "metadata": {},
   "source": [
    "## Turning Documents into Vector Embeddings via Neural Networks\n",
    "\n",
    "With the concept in mind that **Vector Embeddings** are the process of mapping text to a vector space, let's see how this looks like in practice.  For this, our embedding function will be a Transformer like model called `sBAAI/bge-large-en-v1.5` which has been trained for this purpose of capturing semantic meaning.  More information on how many different open source embeddings models perform can be found at https://huggingface.co/spaces/mteb/leaderboard.\n",
    "\n",
    "Furthermore, in this vector space, similar concepts should be mapped close to each other as measured by cosine-similarity (used for this specific model)."
   ]
  },
  {
   "cell_type": "code",
   "execution_count": 2,
   "id": "077a54f3-d587-4888-9181-db8f6d8ee10b",
   "metadata": {},
   "outputs": [],
   "source": [
    "from typing import Dict, List\n",
    "\n",
    "import numpy as np\n",
    "import pprint\n",
    "from langchain.embeddings.sentence_transformer import SentenceTransformerEmbeddings"
   ]
  },
  {
   "cell_type": "code",
   "execution_count": 3,
   "id": "65f61a53-351b-409d-95f3-180bebc40a6e",
   "metadata": {
    "scrolled": true
   },
   "outputs": [
    {
     "name": "stderr",
     "output_type": "stream",
     "text": [
      "/home/kevinjesse/.local/lib/python3.11/site-packages/tqdm/auto.py:21: TqdmWarning: IProgress not found. Please update jupyter and ipywidgets. See https://ipywidgets.readthedocs.io/en/stable/user_install.html\n",
      "  from .autonotebook import tqdm as notebook_tqdm\n"
     ]
    }
   ],
   "source": [
    "# Our sample documents to turn into Vector Embeddings\n",
    "sample_docs = [\n",
    "    \"Pigs are stout-bodied, short-legged, omnivorous mammals, with thick skin usually sparsely coated with short bristles\",\n",
    "    \"Cows are four-footed and have a large body. It has two horns, two eyes plus two ears and one nose and a mouth. Cows are herbivorous animals.\",\n",
    "    \"Chickens are average-sized fowls, characterized by smaller heads, short beaks and wings, and a round body perched on featherless legs.\",\n",
    "    \"NumPy (Numerical Python) is an open source Python library that's used in almost every field of science and engineering. It's the universal standard for working with numerical data in Python, and it's at the core of the scientific Python and PyData ecosystems.\"\n",
    "]\n",
    "\n",
    "# The Embedding function, which is a Neural Network taking in text and outputting vectors\n",
    "embedding_function = SentenceTransformerEmbeddings(\n",
    "    model_name=\"BAAI/bge-large-en-v1.5\",\n",
    "    model_kwargs = {'device': 'cuda'},\n",
    "    encode_kwargs = {'normalize_embeddings': True}\n",
    ")"
   ]
  },
  {
   "cell_type": "code",
   "execution_count": 4,
   "id": "f94c6570-2ce5-4fc1-ba05-c23a85759835",
   "metadata": {},
   "outputs": [
    {
     "name": "stdout",
     "output_type": "stream",
     "text": [
      "First 5 dimensions for embedding of Pigs are stout-bodied, short-legged, omnivorous mammals, with thick skin usually sparsely coated with short bristles:\n",
      "\t [ 0.03743297  0.00983476  0.0515419  -0.03185317 -0.01204156]\n",
      "Embedding Dimension: (1024,)\n",
      "--------------------------------------------------------------------------------\n"
     ]
    }
   ],
   "source": [
    "embeddings = np.array(embedding_function.embed_documents(texts = sample_docs))\n",
    "for i, embedding in enumerate(embeddings[:1]):\n",
    "    print(f\"First 5 dimensions for embedding of {sample_docs[i]}:\")\n",
    "    print(f\"\\t {embeddings[i,:5]}\") # Only printing the first 5 to shorten it\n",
    "    print(f\"Embedding Dimension: {embeddings[i].shape}\")\n",
    "    print(\"-\" * 80)"
   ]
  },
  {
   "cell_type": "markdown",
   "id": "ecd3daa7-6c7e-4479-9bdb-183c78fc345a",
   "metadata": {},
   "source": [
    "## Retrieving Relevant Documents via Vector Similarity\n",
    "\n",
    "A key property of these embeddings is that in the vector space, two semantically similar vectors should be close, while non-similar concepts should be far or 0.  The metric used for measuring often depends on how the model is trained.  For this model, we will use cosine similarity.\n",
    "\n",
    "With the embeddings we can compute how similar any two documents are by computing the cosine similarity between their vector embeddings."
   ]
  },
  {
   "cell_type": "code",
   "execution_count": 5,
   "id": "9d956038-2da4-4334-b8cd-8844f03a4ac0",
   "metadata": {},
   "outputs": [
    {
     "name": "stdout",
     "output_type": "stream",
     "text": [
      "Similarity between Pigs are stout-bodie... and Cows are four-footed...: 0.6423069547039213\n",
      "Similarity between Pigs are stout-bodie... and Chickens are average...: 0.6509340979662507\n",
      "Similarity between Cows are four-footed... and Chickens are average...: 0.6070797595331057\n",
      "Similarity between Pigs are stout-bodie... and NumPy (Numerical Pyt...: 0.3806822591075308\n",
      "Similarity between Cows are four-footed... and NumPy (Numerical Pyt...: 0.35324469898021593\n",
      "Similarity between Chickens are average... and NumPy (Numerical Pyt...: 0.3684640275558285\n"
     ]
    }
   ],
   "source": [
    "norms = np.linalg.norm(embeddings, axis = 1)\n",
    "cosine_similarities = (embeddings @ embeddings.T) / (norms.T * norms)\n",
    "for i in range(len(sample_docs)):\n",
    "    for j in range(i):\n",
    "        print(f\"Similarity between {sample_docs[j][:20]}... and {sample_docs[i][:20]}...: {cosine_similarities[j][i]}\")"
   ]
  },
  {
   "cell_type": "markdown",
   "id": "7824cc72-f9a4-4096-9c40-7a17d2ef2202",
   "metadata": {},
   "source": [
    "As a simple eye test, we can see here that the first three documents have high cosine similarities, while each of their relationship with the description of numpy is lower."
   ]
  },
  {
   "cell_type": "markdown",
   "id": "895c685b-1678-45b7-9ed3-708fc2140601",
   "metadata": {},
   "source": [
    "## Simplest Vector Search System\n",
    "\n",
    "With only these tools, we have enough to technically build a semantic search system."
   ]
  },
  {
   "cell_type": "code",
   "execution_count": 6,
   "id": "75a968c8-9c61-4b2b-85b1-d7e15132b807",
   "metadata": {},
   "outputs": [],
   "source": [
    "embedding_function = SentenceTransformerEmbeddings(\n",
    "    model_name=\"BAAI/bge-large-en-v1.5\",\n",
    "    model_kwargs = {'device': 'cuda'},\n",
    "    encode_kwargs = {'normalize_embeddings': True}\n",
    ")\n",
    "sample_docs = [\n",
    "    \"Pigs are stout-bodied, short-legged, omnivorous mammals, with thick skin usually sparsely coated with short bristles\",\n",
    "    \"Cows are four-footed and have a large body. It has two horns, two eyes plus two ears and one nose and a mouth. Cows are herbivorous animals.\",\n",
    "    \"Chickens are average-sized fowls, characterized by smaller heads, short beaks and wings, and a round body perched on featherless legs.\",\n",
    "    \"NumPy (Numerical Python) is an open source Python library that's used in almost every field of science and engineering. It's the universal standard for working with numerical data in Python, and it's at the core of the scientific Python and PyData ecosystems.\"\n",
    "]\n",
    "\n",
    "def embed_documents(docs: List[str]) -> np.ndarray:\n",
    "    \"\"\"embed all of our documents, only done once\"\"\"\n",
    "    return np.array(embedding_function.embed_documents(docs))\n",
    "\n",
    "def embed_query(query: str) -> np.ndarray:\n",
    "    \"\"\"embed the query, done on demand\"\"\"\n",
    "    return np.array(embedding_function.embed_documents([query]))[0,:]\n",
    "\n",
    "def retrieve_relevant_documents(doc_embeddings : np.ndarray, query_embedding : np.ndarray, k : int = 1) -> List[Dict[str, float]]:\n",
    "    \"\"\"compute cosine similarity between query and documents, return top k and their scores\"\"\"\n",
    "    cosine_similarities = (doc_embeddings @ query_embedding) / (np.linalg.norm(doc_embeddings, axis = 1).T * np.linalg.norm(query_embedding))\n",
    "    sim_scores = np.argsort(cosine_similarities)\n",
    "    return [{'document' : sample_docs[i], 'score' : cosine_similarities[i]} for i in sim_scores[::-1][:k]]\n",
    "                    "
   ]
  },
  {
   "cell_type": "markdown",
   "id": "41e403c4-e91c-4a11-944e-910b92b534c3",
   "metadata": {},
   "source": [
    "First we embed our documents, typically done offline"
   ]
  },
  {
   "cell_type": "code",
   "execution_count": 7,
   "id": "7122ca49-acaf-4ab9-b6b9-0e189fd15b74",
   "metadata": {},
   "outputs": [],
   "source": [
    "doc_embeddings = embed_documents(sample_docs)"
   ]
  },
  {
   "cell_type": "markdown",
   "id": "ebb50071-2988-420d-aad4-35bc1cd4c292",
   "metadata": {},
   "source": [
    "Then for every query:\n",
    "1. embed the query\n",
    "2. compute the similarity score between the query and the documents\n",
    "3. return the top k most similar documents"
   ]
  },
  {
   "cell_type": "code",
   "execution_count": 8,
   "id": "9982d063-8056-4532-b3a1-3c3dc4127930",
   "metadata": {},
   "outputs": [
    {
     "name": "stdout",
     "output_type": "stream",
     "text": [
      "[{'document': 'Pigs are stout-bodied, short-legged, omnivorous mammals, with '\n",
      "              'thick skin usually sparsely coated with short bristles',\n",
      "  'score': 0.621161212096471},\n",
      " {'document': 'Chickens are average-sized fowls, characterized by smaller '\n",
      "              'heads, short beaks and wings, and a round body perched on '\n",
      "              'featherless legs.',\n",
      "  'score': 0.5185080020613424}]\n"
     ]
    }
   ],
   "source": [
    "query_embedding = embed_query(\"What is a hog?\")\n",
    "\n",
    "relevant_docs = retrieve_relevant_documents(doc_embeddings, query_embedding, k = 2)\n",
    "pprint.pprint(relevant_docs)"
   ]
  },
  {
   "cell_type": "markdown",
   "id": "a31cd478-7683-4c35-a3bb-fc40446e6b13",
   "metadata": {},
   "source": [
    "## 2. More Robust Solution using LangChain and PGVector\n",
    "\n",
    "We built our very simple retrieval system, but in practice, there are better solutions for building production ready, scalable solutions.  Primarily, when we computed our vectors, we stored them as a simple numpy array and kept it in memory.  When computing distances, we calculated the cosine similarity against every document.  However, if we had millions of documents, this solution would no longer be sufficient, whether for memory or latency constraints.  \n",
    "\n",
    "In this section, we will demonstrate the use of PGVector and LangChain to improve this, noting that this is one of the solutions available but not fully production grade.  \n",
    "\n",
    "`PGVector` is an extension for `postgresql` which allows for the storage of vector embeddings.  `LangChain` is a tool for working with LLM models, including building embeddings for storage withing a PGVector database."
   ]
  },
  {
   "cell_type": "markdown",
   "id": "c2921203-2ebc-40f9-ac2f-3c6f5f8ffbc4",
   "metadata": {},
   "source": [
    "### Creating a Vector Embedding Database using LangChain and PGVector\n",
    "\n",
    "First, we will connect LangChain to PGVector so that we can have a consistent pipeline that computes embeddings for text and stores the embeddings into the PGVector Vector Database.  This will enable faster query times and persistence of our embeddings."
   ]
  },
  {
   "cell_type": "code",
   "execution_count": 9,
   "id": "a10bde71-e870-468d-a77b-3f4d0d925c2b",
   "metadata": {},
   "outputs": [],
   "source": [
    "from langchain_core.documents import Document\n",
    "\n",
    "import glob\n",
    "from langchain.document_loaders import TextLoader, PyPDFLoader\n",
    "from langchain.embeddings.sentence_transformer import SentenceTransformerEmbeddings\n",
    "from langchain.text_splitter import CharacterTextSplitter\n",
    "from langchain.vectorstores.pgvector import PGVector\n",
    "\n",
    "import sqlalchemy"
   ]
  },
  {
   "cell_type": "markdown",
   "id": "b09b0617-4424-49ec-818e-4c045cd3c216",
   "metadata": {},
   "source": [
    "We create a connection to the database and use langchain to initialize the database from a set of documents"
   ]
  },
  {
   "cell_type": "code",
   "execution_count": 10,
   "id": "a0507372-7bb0-4d4a-b46f-a0fb1b553d7f",
   "metadata": {},
   "outputs": [],
   "source": [
    "# The connection to the database\n",
    "CONNECTION_STRING = PGVector.connection_string_from_db_params(\n",
    "    driver= \"psycopg2\",\n",
    "    host = \"localhost\",\n",
    "    port = \"5432\",\n",
    "    database = \"postgres\",\n",
    "    user= \"username\",\n",
    "    password=\"password\"\n",
    ")\n",
    "\n",
    "# The embedding function that will be used to store into the database\n",
    "embedding_function = SentenceTransformerEmbeddings(\n",
    "    model_name=\"BAAI/bge-large-en-v1.5\",\n",
    "    model_kwargs = {'device': 'cuda'},\n",
    "    encode_kwargs = {'normalize_embeddings': True}\n",
    ")\n",
    "\n",
    "db = PGVector(\n",
    "    connection_string=CONNECTION_STRING,\n",
    "    collection_name=\"embeddings\",\n",
    "    embedding_function=embedding_function\n",
    ")"
   ]
  },
  {
   "cell_type": "markdown",
   "id": "c689bb3f-923f-4574-93f3-d7fb572fd7a6",
   "metadata": {},
   "source": [
    "For larger documents, a good practice is to chunk the document into smaller segments to allow for the search to be more precise.  LangChain contains multiple methods to chunk documents into smaller parts.  Below we implement a method to load a text document from a path and chunk it into blocks for embedding."
   ]
  },
  {
   "cell_type": "code",
   "execution_count": 19,
   "id": "94b0bd9d-9caa-4527-b02c-b3fbdf78af82",
   "metadata": {
    "scrolled": true
   },
   "outputs": [
    {
     "name": "stdout",
     "output_type": "stream",
     "text": [
      "../../../data/call_notes/MSL_Notes_23.pdf\n",
      "../../../data/call_notes/MSL_Notes_7.pdf\n",
      "../../../data/call_notes/MSL_Notes_29.pdf\n",
      "../../../data/call_notes/MSL_Notes_12.pdf\n",
      "../../../data/call_notes/MSL_Notes_34.pdf\n",
      "../../../data/call_notes/MSL_Notes_21.pdf\n",
      "../../../data/call_notes/MSL_Notes_15.pdf\n",
      "../../../data/call_notes/MSL_Notes_35.pdf\n",
      "../../../data/call_notes/MSL_Notes_27.pdf\n",
      "../../../data/call_notes/MSL_Notes_3.pdf\n",
      "../../../data/call_notes/MSL_Notes_30.pdf\n",
      "../../../data/call_notes/MSL_Notes_28.pdf\n",
      "../../../data/call_notes/MSL_Notes_8.pdf\n",
      "../../../data/call_notes/MSL_Notes_17.pdf\n",
      "../../../data/call_notes/MSL_Notes_1.pdf\n",
      "../../../data/call_notes/MSL_Notes_5.pdf\n",
      "../../../data/call_notes/MSL_Notes_14.pdf\n",
      "../../../data/call_notes/MSL_Notes_13.pdf\n",
      "../../../data/call_notes/MSL_Notes_20.pdf\n",
      "../../../data/call_notes/MSL_Notes_31.pdf\n",
      "../../../data/call_notes/MSL_Notes_2.pdf\n",
      "../../../data/call_notes/MSL_Notes_6.pdf\n",
      "../../../data/call_notes/MSL_Notes_22.pdf\n",
      "../../../data/call_notes/MSL_Notes_25.pdf\n",
      "../../../data/call_notes/MSL_Notes_4.pdf\n",
      "../../../data/call_notes/MSL_Notes_11.pdf\n",
      "../../../data/call_notes/MSL_Notes_9.pdf\n",
      "../../../data/call_notes/MSL_Notes_26.pdf\n",
      "../../../data/call_notes/MSL_Notes_19.pdf\n",
      "../../../data/call_notes/MSL_Notes_16.pdf\n",
      "../../../data/call_notes/MSL_Notes_32.pdf\n",
      "../../../data/call_notes/MSL_Notes_33.pdf\n",
      "../../../data/call_notes/MSL_Notes_10.pdf\n",
      "../../../data/call_notes/MSL_Notes_18.pdf\n",
      "../../../data/call_notes/MSL_Notes_24.pdf\n"
     ]
    }
   ],
   "source": [
    "def chunk_document(doc_path: str) -> List[Document]:\n",
    "    \"\"\"Chunk a document into smaller langchain Documents for embedding.\n",
    "\n",
    "    :param doc_path: path to document\n",
    "    :type doc_path: str\n",
    "    :return: List of Document chunks\n",
    "    :rtype: List[Document]\n",
    "    \"\"\"\n",
    "    loader = PyPDFLoader(doc_path)\n",
    "    documents = loader.load()\n",
    "\n",
    "    # split document based on the `\\n\\n` character, quite unintuitive\n",
    "    # https://stackoverflow.com/questions/76633836/what-does-langchain-charactertextsplitters-chunk-size-param-even-do\n",
    "    text_splitter = CharacterTextSplitter(chunk_size=1000, chunk_overlap=0)\n",
    "    \n",
    "    return text_splitter.split_documents(documents)\n",
    "\n",
    "# load the document and split it into chunks\n",
    "doc_chunks = []\n",
    "for doc in glob.glob(\"../../../data/call_notes/*.pdf\"):\n",
    "    print(doc)\n",
    "    doc_chunks += chunk_document(doc)\n"
   ]
  },
  {
   "cell_type": "code",
   "execution_count": 20,
   "id": "0b08f283",
   "metadata": {},
   "outputs": [
    {
     "data": {
      "text/plain": [
       "[Document(page_content=\"Subject:  Medical Science Liaison (MSL) Notes - Critical Discussion on ImmunoViva  \\nDate:  January 12, 2025  \\nProvider:  Dr. Jason Williams  \\nTitle:  Rheumatologist  \\nInstitution:  JointCare Rheumatology Clinic  \\nSummary of Key Discussion Points:  \\n1. Introduction:  \\n• Introduced ImmunoViva as an immunomodulatory therapy designed to enhance \\nimmune responses.  \\n• Dr. Williams expressed skepticism , questioning the necessity for a new \\nimmunomodulator in an already complex landscape.  \\n2. Provider's Current Patient Cases:  \\n• Dr. Williams shared reservations about the practical impact of ImmunoViva in patients \\nwith rheumatic diseases.  \\n• Discussed specific cases  where traditional disease -modifying antirheumatic drugs \\n(DMARDs) have shown established efficacy.  \\n3. Efficacy and Clinical Data:  \\n• Presented recent clinical data showcasing ImmunoViva's modulation of immune \\nresponses.  \\n• Dr. Williams questioned the clinical signi ficance of the reported reductions in \\nautoimmune flare -ups and sought comparative data.  \\n4. Safety Profile:  \\n• Discussed the reported safety profile of ImmunoViva, with minimal reported \\nimmunosuppressive effects.  \\n• Dr. Williams expressed concerns about the lack of long -term safety data and potential \\nunforeseen immunological consequences.  \\n5. Mechanism of Action:  \\n• Explained ImmunoViva's mechanism, focusing on its selective modulation of immune \\ncheckpoints and cytokine balance.  \\n• Dr. Williams questioned the necessity for such selective modulation and inquired about \\npotential off -target effects.  \\n6. Patient Adherence and Ed ucation:  \\n• Discussed strategies for enhancing patient adherence through a subcutaneous injection \\nevery two weeks.\", metadata={'source': '../../../data/call_notes/MSL_Notes_23.pdf', 'page': 0}),\n",
       " Document(page_content=\"• Dr. Williams expressed skepticism about patient compliance, citing the frequency of \\ninjections as a potential barrier.  \\n7. Emerging Research and Fut ure Developments:  \\n• Highlighted ongoing research on ImmunoViva's potential in other autoimmune \\nconditions.  \\n• Dr. Williams questioned the need for expanding research without addressing existing \\nconcerns about clinical relevance.  \\n8. Competitive Landscape:  \\n• Compared ImmunoViva to existing DMARDs and biologics, questioning the added \\nbenefits of its selective modulation.  \\n• Discussed challenges of introducing a new drug without clear advantages over \\nestablished treatments.  \\n9. Access and Reimbursement:  \\n• Provided updates on acce ss and reimbursement programs for rheumatology clinics.  \\n• Dr. Williams expressed reservations about the cost -effectiveness of ImmunoViva \\ncompared to existing treatments.  \\n10. Action Items and Follow -Up: \\n• Dr. Williams did not express interest in further collaboration or follow -up. \\n• Agreed to remain open to future data but expressed skepticism about the drug's \\npractical impact in rheumatology.  \\n11. Closing Remarks:  \\n• Acknowledged Dr. Williams's concerns and thanked him for his candid feedback.  \\n• Expressed understanding and committed to addressing ongoing questions or concerns \\nas the drug's development progresses.\", metadata={'source': '../../../data/call_notes/MSL_Notes_23.pdf', 'page': 1}),\n",
       " Document(page_content=\"Subject:  Medical Science Liaison (MSL) Notes - Critical Discussion on Prolifixin  \\nDate:  September 15, 2023  \\nProvider:  Dr. Robert Hernandez  \\nTitle:  Hematologist -Oncologist  \\nInstitution:  Unity Cancer Institute  \\nSummary of Key Discussion Points:  \\n1. Introduction:  \\n• Introduced Prolifixin as an advanced targeted therapy for hematologic malignancies.  \\n• Dr. Hernandez expressed reservations about the necessity of introducing a new therapy \\ngiven the existing treatment landscape.  \\n2. Provider's Current Patient Cases:  \\n• Dr. Hernandez shared concerns about limited observed responses in his current patients \\nundergoin g Prolifixin treatment.  \\n• Discussed perceived challenges in achieving sustained remissions compared to \\nconventional therapies.  \\n3. Efficacy and Clinical Data:  \\n• Presented data showcasing Prolifixin's efficacy in achieving a 30% reduction in tumor \\nsize.  \\n• Dr. Hernand ez questioned the clinical significance of the reported reduction and \\nexpressed doubts about its practical impact on patient outcomes.  \\n4. Safety Profile:  \\n• Discussed the favorable safety profile of Prolifixin, emphasizing low rates of common \\nside effects.  \\n• Dr. H ernandez raised concerns about the potential for rare side effects and their \\nunderrepresentation in current data.  \\n5. Mechanism of Action:  \\n• Explained Prolifixin's unique mechanism targeting specific cancer cell signaling \\npathways.  \\n• Dr. Hernandez challenged the d rug's specificity, questioning potential off -target effects \\nand their long -term consequences.  \\n6. Patient Adherence and Education:  \\n• Dr. Hernandez expressed skepticism about the sustainability of patient adherence to \\nProlifixin due to perceived limited benefits.  \\n• Discussed patient feedback indicating a preference for conventional chemotherapy due \\nto established efficacy.\", metadata={'source': '../../../data/call_notes/MSL_Notes_7.pdf', 'page': 0}),\n",
       " Document(page_content=\"7. Emerging Research and Future Developments:  \\n• Highlighted ongoing research on Prolifixin's potential in refractory cases.  \\n• Dr. Hernandez questioned t he rationale behind continuing research without addressing \\nexisting concerns.  \\n8. Competitive Landscape:  \\n• Compared Prolifixin to established therapies for hematologic malignancies.  \\n• Discussed the challenges of introducing a new drug without clear advantages over \\nexisting options.  \\n9. Access and Reimbursement:  \\n• Dr. Hernandez expressed concerns about the cost -effectiveness of Prolifixin, especially \\ngiven existing therapeutic alternatives.  \\n• Shared reservations about potential financial burdens on patients and healthcare \\nsystems.  \\n10. Action Items and Follow -Up: \\n• Dr. Hernandez did not express interest in further collaboration or follow -up. \\n• Agreed to remain open to future data and evidence but expresse d skepticism about the \\ndrug's practical impact.  \\n11. Closing Remarks:  \\n• Acknowledged Dr. Hernandez's concerns and thanked him for his candid feedback.  \\n• Expressed understanding and committed to addressing ongoing questions or concerns \\nas the drug's development prog resses.\", metadata={'source': '../../../data/call_notes/MSL_Notes_7.pdf', 'page': 1}),\n",
       " Document(page_content=\"Subject:  Medical Science Liaison (MSL) Notes - Introduction of PediatricEase  \\nDate:  August 15, 2025  \\nProvider:  Dr. Lisa Reynolds  \\nTitle:  Pediatrician  \\nInstitution:  KidsWell Pediatrics  \\nSummary of Key Discussion Points:  \\n1. Introduction:  \\n• Introduced PediatricEase as an innovative therapy for the management of pediatric \\nmigraine in children under 12.  \\n• Emphasized its unique formulation and targeted approach for improved safety  in the \\npediatric population.  \\n2. Provider's Current Patient Cases:  \\n• Dr. Reynolds expressed interest in effective and safe treatments for pediatric migraines.  \\n• Discussed specific cases where current treatments for migraines in children have \\nlimitations or adverse effects.  \\n3. Efficacy and Clinical Data:  \\n• Presented recent clinical data showcasing PediatricEase's ability to reduce migraine \\nfrequency by 50% and improve overall well -being in pediatric patients.  \\n• Highlighted statistically significant improvements in headache intensity and duration.  \\n4. Safety Profil e: \\n• Discussed the favorable safety profile of PediatricEase, specifically designed to address \\nthe unique needs and concerns of pediatric patients.  \\n• Dr. Reynolds inquired about potential interactions with commonly prescribed \\nmedications for children.  \\n5. Mechanis m of Action:  \\n• Explained PediatricEase's mechanism, focusing on its targeted modulation of specific \\nneurotransmitter pathways involved in pediatric migraines.  \\n• Dr. Reynolds appreciated the detailed explanation and sought insights into its potential \\nfor long -term use in children.  \\n6. Patient Adherence and Education:  \\n• Discussed strategies for enhancing patient adherence through a once -daily oral solution \\nwith a child -friendly flavor.  \\n• Shared educational materials designed for both parents and children to ensure proper  \\nadministration and understanding of the treatment.  \\n7. Emerging Research and Future Developments:\", metadata={'source': '../../../data/call_notes/MSL_Notes_29.pdf', 'page': 0}),\n",
       " Document(page_content=\"• Highlighted ongoing research on PediatricEase's potential in other pediatric headache \\ndisorders.  \\n• Discussed plans for exploring combination therapies to address v arious aspects of \\npediatric migraines.  \\n8. Competitive Landscape:  \\n• Compared PediatricEase to existing treatments for pediatric migraines, emphasizing its \\nimproved safety profile and targeted mechanism.  \\n• Discussed the need for tailored treatment plans considering  the specific needs of \\nchildren.  \\n9. Access and Reimbursement:  \\n• Provided updates on access and reimbursement programs for pediatric clinics.  \\n• Discussed potential affordability concerns and patient assistance programs for families.  \\n10. Action Items and Follow -Up: \\n• Dr. Reynolds expressed interest in incorporating PediatricEase into her practice for \\npediatric migraine management.  \\n• Agreed upon a follow -up in three months to assess patient response and discuss any \\nemerging concerns.  \\n11. Closing Remarks:  \\n• Expressed gratitude for Dr. Reynolds's commitment to pediatric care.  \\n• Reiterated commitment to ongoing collaboration and support for KidsWell Pediatrics.\", metadata={'source': '../../../data/call_notes/MSL_Notes_29.pdf', 'page': 1}),\n",
       " Document(page_content=\"Subject:  Medical Science Liaison (MSL) Notes - Introduction of OsteoGuard  \\nDate:  February 25, 2024  \\nProvider:  Dr. Benjamin Turner  \\nTitle:  Rheumatologist  \\nInstitution:  Arthritis and Osteoporosis Center  \\nSummary of Key Discussion Points:  \\n1. Introduction:  \\n• Introduced OsteoGuard as an innovative therapy for osteoporosis, focusing on bone \\nhealth preservation.  \\n• Emphasized its unique mechanism of promotin g bone density through targeted \\nosteoclast modulation.  \\n2. Provider's Current Patient Cases:  \\n• Dr. Turner expressed interest in exploring novel interventions for osteoporosis, \\nparticularly in patients with comorbid rheumatic conditions.  \\n• Discussed specific cases where traditional treatments have shown limited efficacy.  \\n3. Efficacy and Clinical Data:  \\n• Presented recent clinical data showcasing OsteoGuard's ability to increase bone mineral \\ndensity by 5% within the first year of treatment.  \\n• Highlighted statistically significant reductions in fracture risk.  \\n4. Safety Profile:  \\n• Discussed the favorable safety prof ile of OsteoGuard, with a low incidence of \\ngastrointestinal side effects.  \\n• Dr. Turner inquired about potential interactions with medications commonly used in \\nrheumatology.  \\n5. Mechanism of Action:  \\n• Explained OsteoGuard's mechanism, focusing on its role in modula ting osteoclast \\nactivity to optimize bone remodeling.  \\n• Dr. Turner appreciated the novel approach and sought insights into long -term bone \\nhealth preservation.  \\n6. Patient Adherence and Education:  \\n• Discussed strategies for enhancing patient adherence through once -monthly dosing and \\nconvenient administration.  \\n• Shared patient education materials emphasizing the importance of bone health in \\nrheumatic conditions.  \\n7. Emerging Research and Future Developments:\", metadata={'source': '../../../data/call_notes/MSL_Notes_12.pdf', 'page': 0}),\n",
       " Document(page_content=\"• Highlighted ongoing research on OsteoGuard's potential in prevent ing glucocorticoid -\\ninduced osteoporosis.  \\n• Discussed plans for exploring combination therapies in rheumatology patients with \\nconcurrent osteoporosis.  \\n8. Competitive Landscape:  \\n• Compared OsteoGuard to current osteoporosis treatments, emphasizing its potential \\nbenefits in rheumatic populations.  \\n• Discussed the need for tailored interventions in patients with complex musculoskeletal \\nconditions.  \\n9. Access and Reimbursement:  \\n• Provided updates on access and reimbursement programs for rheumatology clinics.  \\n• Discussed potential affordability concerns and patient assistance programs.  \\n10. Action Items and Follow -Up: \\n• Dr. Turner expressed interest in participating in ongoing clinical trial s related to \\nOsteoGuard in rheumatic patients.  \\n• Agreed upon a follow -up in three months to provide additional data and address any \\nongoing concerns.  \\n11. Closing Remarks:  \\n• Expressed gratitude for Dr. Turner's dedication to advancing bone health in \\nrheumatology pa tients.  \\n• Reiterated commitment to ongoing collaboration and support for the Arthritis and \\nOsteoporosis Center.\", metadata={'source': '../../../data/call_notes/MSL_Notes_12.pdf', 'page': 1}),\n",
       " Document(page_content=\"Subject:  Medical Science Liaison (MSL) Notes - Mixed Reactions on GlucoFlex Discussion  \\nDate:  April 15, 202 3 \\nProvider:  Dr. Jennifer Patel  \\nTitle:  Endocrinologist  \\nInstitution:  Diabetes Care Center  \\nSummary of Key Discussion Points:  \\n1. Introduction:  \\n• Introduced GlucoFlex as an innovative therapy for comprehensive diabetes \\nmanagement.  \\n• Dr. Patel expressed cautious interest, noting the need for more options in the diabetes \\ntreatment landscape.  \\n2. Provider's Current Patient Cases:  \\n• Dr. Patel shared enthusiasm for novel treatments, particularly those addressing insulin \\nresistance.  \\n• Discussed specific cases where current treatments have shown limitations in achieving \\noptimal glycemic control, prompting the search for alternative options.  \\n3. Efficacy and Clinical Data:  \\n• Presented recent clinical data showcasing GlucoFlex's ability to improve HbA1c levels \\nand reduce postprandial glucose fluctuations.  \\n• Dr. Patel acknowledged the promising efficacy data but raised concerns about the \\ndiversity of pa tient profiles in the trials and the potential variation in treatment \\nresponses.  \\n4. Safety Profile:  \\n• Discussed the favorable safety profile of GlucoFlex, with minimal reported adverse \\neffects in late -phase trials.  \\n• Dr. Patel inquired about potential long -term s afety considerations, particularly in \\npatients with comorbidities.  \\n5. Mechanism of Action:  \\n• Provided a detailed explanation of GlucoFlex's mechanism, focusing on its dual -action \\napproach in enhancing insulin sensitivity and modulating glucose absorption.  \\n• Dr. P atel appreciated the innovative mechanism but sought more insights into the \\nspecific patient characteristics that may benefit most from GlucoFlex.  \\n6. Patient Adherence and Education:  \\n• Discussed strategies for enhancing patient adherence through a once -daily or al tablet.\", metadata={'source': '../../../data/call_notes/MSL_Notes_34.pdf', 'page': 0}),\n",
       " Document(page_content=\"• Dr. Patel praised the simplicity of the dosing regimen but questioned potential \\nchallenges in monitoring patients for adherence and treatment response.  \\n7. Emerging Research and Future Developments:  \\n• Highlighted ongoing research on GlucoFlex's potent ial in addressing specific diabetes \\nsubtypes and complications.  \\n• Dr. Patel expressed interest in participating in future research but emphasized the need \\nfor independent validation of findings and real -world evidence.  \\n8. Competitive Landscape:  \\n• Compared GlucoFl ex to existing antidiabetic medications, acknowledging its unique \\ndual -action mechanism.  \\n• Discussed the importance of independent assessments and head -to-head trials to \\nestablish comparative efficacy.  \\n9. Access and Reimbursement:  \\n• Provided updates on access and reimbursement programs for endocrinology clinics.  \\n• Dr. Patel expressed concerns about potential affordability barriers for patients and the \\nneed for robust patient assistance programs.  \\n10. Action Items and Follow -Up: \\n• Dr. Patel exp ressed a willingness to cautiously trial GlucoFlex in a subset of her patients \\nwith insulin resistance.  \\n• Agreed upon a follow -up in three months to assess initial patient responses and discuss \\nany emerging concerns.  \\n11. Closing Remarks:  \\n• Expressed gratitude for Dr. Patel's thoughtful considerations and engagement in the \\ndiscussion.  \\n• Reiterated commitment to ongoing collaboration and support for the Diabetes Care \\nCenter.\", metadata={'source': '../../../data/call_notes/MSL_Notes_34.pdf', 'page': 1}),\n",
       " Document(page_content=\"Subj ect: Medical Science Liaison (MSL) Notes - Introduction of CardioGuardia  \\nDate:  November 20, 2024  \\nProvider:  Dr. Michael Chen  \\nTitle:  Cardiologist  \\nInstitution:  HeartCare Cardiovascular Center  \\nSummary of Key Discussion Points:  \\n1. Introduction:  \\n• Introduced CardioGuardia as an innovative therapy for the prevention of atherosclerotic \\ncardiovascular events.  \\n• Emphasized its unique mechanism targeting both lipid metabolism and endothelial \\nfunction.  \\n2. Provider's Current Patient Cases:  \\n• Dr. Chen expressed in terest in new approaches to cardiovascular risk reduction.  \\n• Discussed specific cases where current lipid -lowering therapies have shown limited \\nefficacy or undesirable side effects.  \\n3. Efficacy and Clinical Data:  \\n• Presented recent clinical data showcasing Cardio Guardia's ability to reduce LDL \\ncholesterol by 40% and decrease major cardiovascular events by 25%.  \\n• Highlighted statistically significant improvements in arterial health and atherogenic lipid \\nprofiles.  \\n4. Safety Profile:  \\n• Discussed the favorable safety profile  of CardioGuardia, with minimal reported adverse \\neffects.  \\n• Dr. Chen inquired about potential interactions with commonly prescribed cardiovascular \\nmedications.  \\n5. Mechanism of Action:  \\n• Explained CardioGuardia's dual mechanism, focusing on lipid modulation and \\nenhancement of endothelial nitric oxide production.  \\n• Dr. Chen appreciated the drug's comprehensive approach and sought insights into its \\npotential for long -term cardiovascular risk r eduction.  \\n6. Patient Adherence and Education:  \\n• Discussed strategies for enhancing patient adherence through a once -daily oral \\nformulation.  \\n• Shared patient education materials emphasizing the importance of sustained lipid \\ncontrol for overall cardiovascular healt h.\", metadata={'source': '../../../data/call_notes/MSL_Notes_21.pdf', 'page': 0}),\n",
       " Document(page_content=\"7. Emerging Research and Future Developments:  \\n• Highlighted ongoing research on CardioGuardia's potential in addressing residual \\ncardiovascular risk in high -risk populations.  \\n• Discussed plans for exploring combination therapies to address multifactorial \\ncardi ovascular risk factors.  \\n8. Competitive Landscape:  \\n• Compared CardioGuardia to existing cardiovascular medications, emphasizing its dual -\\naction mechanism and potential for comprehensive cardiovascular risk reduction.  \\n• Discussed the need for individualized treatme nt plans considering the diverse nature of \\ncardiovascular risk.  \\n9. Access and Reimbursement:  \\n• Provided updates on access and reimbursement programs for cardiovascular clinics.  \\n• Discussed potential affordability concerns and patient assistance programs.  \\n10. Action I tems and Follow -Up: \\n• Dr. Chen expressed interest in participating in ongoing real -world evidence studies for \\nCardioGuardia.  \\n• Agreed upon a follow -up in three months to provide additional data and address any \\nongoing concerns.  \\n11. Closing Remarks:  \\n• Expressed gratitude for Dr. Chen's commitment to advancing cardiovascular care.  \\n• Reiterated commitment to ongoing collaboration and support for the HeartCare \\nCardiovascular Center.\", metadata={'source': '../../../data/call_notes/MSL_Notes_21.pdf', 'page': 1}),\n",
       " Document(page_content=\"Subject:  Medical Science Liaison (MSL) Notes - Critical Discussion on Vitaligen in Cardiovascular Health  \\nDate:  June 8, 2024  \\nProvider:  Dr. Rachel Foster  \\nTitle:  Interventional Cardiologist  \\nInstitution:  Advanced Cardiovascular Institute  \\nSummary of Key Discussion Points:  \\n1. Introduction:  \\n• Introduced Vitaligen as a potential therapy targeting arterial stiffness and cardiovascular \\nhealth . \\n• Dr. Foster expressed skepticism about the need for another medication in an already \\ncrowded cardiovascular treatment landscape.  \\n2. Provider's Current Patient Cases:  \\n• Dr. Foster shared reservations about the practical impact of reducing arterial stiffness in \\nher patient population.  \\n• Discussed cases where patients struggled with more pressing cardiovascular issues such \\nas coronary artery disease.  \\n3. Efficacy and Clinical Data:  \\n• Presented recent clinical data showcasing Vitaligen's modest reduction in arterial \\nstiffness.  \\n• Dr. Foster questioned the clinical significance of the reported improvements and their \\nrelevance to cardiovascular outcomes.  \\n4. Safety Profile:  \\n• Discussed the reporte d safety profile of Vitaligen, but Dr. Foster expressed concerns \\nabout potential long -term cardiovascular effects.  \\n• Raised questions about the practicality of integrating a new medication into established \\ncardiovascular regimens.  \\n5. Mechanism of Action:  \\n• Explai ned Vitaligen's mechanism, focusing on its role in enhancing nitric oxide \\nproduction.  \\n• Dr. Foster questioned the need for a standalone therapy addressing arterial stiffness, \\nsuggesting that current treatments may indirectly impact the same pathways.  \\n6. Patient  Adherence and Education:  \\n• Dr. Foster expressed skepticism about patient adherence, given the perceived lack of \\nimmediate and tangible benefits.\", metadata={'source': '../../../data/call_notes/MSL_Notes_15.pdf', 'page': 0}),\n",
       " Document(page_content=\"• Discussed patient feedback indicating a preference for interventions directly addressing \\nmajor cardiovascular ev ents.  \\n7. Emerging Research and Future Developments:  \\n• Highlighted ongoing research on Vitaligen's potential in preventing cardiovascular \\nevents.  \\n• Dr. Foster questioned the rationale behind expanding research without addressing \\nexisting concerns about clinical re levance.  \\n8. Competitive Landscape:  \\n• Compared Vitaligen to existing cardiovascular medications, with Dr. Foster expressing a \\npreference for established therapies with proven outcomes.  \\n• Discussed challenges of introducing a new drug without clear advantages over existing \\ntreatments.  \\n9. Access and Reimbursement:  \\n• Dr. Foster expressed skepticism about the cost -effectiveness of Vitaligen, especially \\ngiven existing therapeutic alternatives.  \\n• Shared concerns about potential financial burdens on patients and healthcare systems.  \\n10. Action Items and Follow -Up: \\n• Dr. Foster did not express interest in further collaboration or follow -up. \\n• Agreed to remain open to future data and evidence but expressed skepticism about the \\ndrug's practical impact.  \\n11. Closing Remarks:  \\n• Acknowledged Dr. Foster's concerns and thanked her for her candid fee dback.  \\n• Expressed understanding and committed to addressing ongoing questions or concerns \\nas the drug's development progresses.\", metadata={'source': '../../../data/call_notes/MSL_Notes_15.pdf', 'page': 1}),\n",
       " Document(page_content=\"Subject:  Medical Science Liaison (MSL) Notes - Introduction of GastroGuard  \\nDate:  May 10, 2026  \\nProvider:  Dr. Emily Chan mugam  \\nTitle:  Oncologist  \\nInstitution:  GastroOncology Institute  \\nSummary of Key Discussion Points:  \\n1. Introduction:  \\n• Introduced GastroGuard as an innovative therapy for advanced gastric cancer.  \\n• Emphasized its unique targeted mechanism aiming t o inhibit tumor growth and improve \\noverall survival.  \\n2. Provider's Current Patient Cases:  \\n• Dr. Chang expressed interest in new treatment options for gastric cancer, particularly \\nthose offering improved efficacy and reduced side effects.  \\n• Discussed specific case s where current treatments have shown limitations in disease \\ncontrol and tolerability.  \\n3. Efficacy and Clinical Data:  \\n• Presented recent clinical data showcasing GastroGuard's ability to extend progression -\\nfree survival and overall survival in advanced gastric cancer patients.  \\n• Highlighted statistically significant improvements in response rates compared to \\nstandard -of-care treatments.  \\n4. Safety Profile:  \\n• Discussed the favorable safety profile of GastroGuard, with manageable and well -\\ntolerated adverse effects in late -phase trials.  \\n• Dr. Chang inquired about specific adverse events observed and any considerations for \\nmanaging them in clinical practice.  \\n5. Mechanism of Action:  \\n• Provided a detailed explanation of GastroGuard's mechanism, focusing on its targeted \\ninhibition of specific molecular pathways implicated in gastric cancer.  \\n• Dr. Chang appreciated the detailed explanation and sought insights into potential \\nbenefits for pati ents with specific genetic mutations.  \\n6. Patient Adherence and Education:  \\n• Discussed strategies for enhancing patient adherence to GastroGuard through a once -\\ndaily oral tablet.  \\n• Shared patient education materials emphasizing the importance of regular follow -ups \\nand potential supportive care measures.\", metadata={'source': '../../../data/call_notes/MSL_Notes_35.pdf', 'page': 0}),\n",
       " Document(page_content=\"7. Emerging Research and Future Developments:  \\n• Highlighted ongoing research on GastroGuard's potential in adjuvant and neoadjuvant \\nsettings for gastric cancer.  \\n• Discussed plans for exploring combination therapies to tail or treatment plans for \\npatients with diverse disease presentations.  \\n8. Competitive Landscape:  \\n• Compared GastroGuard to existing therapies for advanced gastric cancer, emphasizing \\nits unique mechanism and potential for improved outcomes.  \\n• Discussed the challenge s of managing advanced gastric cancer and the need for a \\nmultidisciplinary approach in treatment decisions.  \\n9. Access and Reimbursement:  \\n• Provided updates on access and reimbursement programs for oncology clinics.  \\n• Dr. Chang expressed concerns about potential a ffordability barriers for patients and the \\nneed for patient assistance programs.  \\n10. Action Items and Follow -Up: \\n• Dr. Chang expressed interest in incorporating GastroGuard into her practice for specific \\npatient subgroups.  \\n• Agreed upon a follow -up in three months  to discuss initial patient responses and \\naddress any emerging concerns.  \\n11. Closing Remarks:  \\n• Expressed gratitude for Dr. Chang's dedication to advancing gastric cancer care.  \\n• Reiterated commitment to ongoing collaboration and support for the GastroOncology \\nInstitute.\", metadata={'source': '../../../data/call_notes/MSL_Notes_35.pdf', 'page': 1}),\n",
       " Document(page_content=\"Subject:  Medical Science Liaison (MSL) Notes - Introduction of NanoFlexa  \\nDate:  June 15, 2025  \\nProvider:  Dr. Olivia Chang  \\nTitle:  Rheumatologist  \\nInstitution:  FlexJoint Rheumatology Center  \\nSummary of Key Discussion Points:  \\n1. Introduction:  \\n• Introduced NanoFlexa as an innovative therapy for the management of rheumatoid \\narthritis (RA).  \\n• Emphasized its unique nanoparticle -based delivery system for targeted joint \\ninflamm ation control.  \\n2. Provider's Current Patient Cases:  \\n• Dr. Chang expressed interest in novel approaches for patients with moderate to severe \\nRA. \\n• Discussed specific cases where current disease -modifying antirheumatic drugs \\n(DMARDs) have shown limitations or signi ficant side effects.  \\n3. Efficacy and Clinical Data:  \\n• Presented recent clinical data showcasing NanoFlexa's ability to reduce RA disease \\nactivity scores by 50% and improve joint function.  \\n• Highlighted statistically significant improvements in inflammatory markers and \\nradiographic progression.  \\n4. Safety Profile:  \\n• Discussed the favorable safety profile of NanoFlexa, with the unique benefit of localized \\njoint delivery.  \\n• Dr. Chang inquired about potential systemic effects and long -term safety, particularly in \\ncomparison to traditional systemic DMARDs.  \\n5. Mode of Delivery:  \\n• Explained NanoFlexa's mode of delivery, utilizing a subcutaneous implant with \\ncontrolled release of nanoparticles at the joint site.  \\n• Dr. Chang expressed interest in understanding the patient experience and potential \\nadvantages of localized delivery.  \\n6. Patien t Adherence and Education:  \\n• Discussed strategies for enhancing patient adherence through the convenience of a \\nsemi -annual subcutaneous implant.\", metadata={'source': '../../../data/call_notes/MSL_Notes_27.pdf', 'page': 0}),\n",
       " Document(page_content=\"• Shared patient education materials emphasizing the benefits of targeted therapy and \\nreduced systemic side effects . \\n7. Emerging Research and Future Developments:  \\n• Highlighted ongoing research on NanoFlexa's potential in other inflammatory joint \\nconditions.  \\n• Discussed plans for exploring combination therapies to address various aspects of \\nrheumatoid arthritis.  \\n8. Competitive L andscape:  \\n• Compared NanoFlexa to existing systemic DMARDs, emphasizing its unique nanoparticle \\ndelivery and potential for joint -specific inflammation control.  \\n• Discussed the need for personalized treatment plans considering the diverse nature of \\nRA presentat ions.  \\n9. Access and Reimbursement:  \\n• Provided updates on access and reimbursement programs for rheumatology clinics.  \\n• Discussed potential affordability concerns and patient assistance programs specific to \\nNanoFlexa.  \\n10. Action Items and Follow -Up: \\n• Dr. Chang expressed interest in considering NanoFlexa for specific patient populations in \\nher clinic.  \\n• Agreed upon a follow -up in t hree months to assess patient response and discuss any \\nemerging concerns.  \\n11. Closing Remarks:  \\n• Expressed gratitude for Dr. Chang's interest and forward -thinking approach to \\nrheumatology care.  \\n• Reiterated commitment to ongoing collaboration and support for the FlexJoint \\nRheumatology Center.\", metadata={'source': '../../../data/call_notes/MSL_Notes_27.pdf', 'page': 1}),\n",
       " Document(page_content=\"Subject:  Medical Science Liaison (MSL) Notes - In-Depth  Discussion on NeuroGlyde  \\nDate:  May 5, 2023  \\nProvider:  Dr. Sarah Mitchell  \\nTitle:  Geriatric Psychiatrist  \\nInstitution:  Harmony Senior Care Center  \\nSummary of Key Discussion Points:  \\n1. Introduction:  \\n• Discussed NeuroGlyde's potential impact on cognitive decline in elderly patients.  \\n• Emphasized the importance of addressing neuroprotective strategies in the aging \\npopulation.  \\n2. Provider's Current Patient Cases:  \\n• Explored Dr. Mitchell's experiences with NeuroGl yde in managing cognitive impairment \\nin geriatric patients.  \\n• Discussed improvements in mood and cognition observed in Alzheimer's patients.  \\n3. Efficacy and Clinical Data:  \\n• Presented data showcasing a 50% reduction in cognitive decline progression rates.  \\n• Highlig hted NeuroGlyde's role in improving neuropsychiatric symptoms in elderly \\npatients.  \\n4. Safety Profile:  \\n• Discussed the favorable safety profile of NeuroGlyde in elderly populations.  \\n• Addressed concerns related to drug interactions and polypharmacy.  \\n5. Mechanism of Action:  \\n• Explained NeuroGlyde's unique mechanism targeting neuroinflammation and oxidative \\nstress.  \\n• Quantified improvements in executive function and memory recall based on recent \\nstudies.  \\n6. Patient Adherence and Education:  \\n• Explored strategies for  enhancing patient adherence in the geriatric population.  \\n• Shared tailored educational materials suitable for elderly patients and their caregivers.  \\n7. Emerging Research and Future Developments:  \\n• Highlighted ongoing research on NeuroGlyde's potential in prevent ing cognitive decline \\nin aging individuals.  \\n• Discussed plans for real -world evidence studies in geriatric psychiatry.\", metadata={'source': '../../../data/call_notes/MSL_Notes_3.pdf', 'page': 0}),\n",
       " Document(page_content=\"8. Competitive Landscape:  \\n• Compared NeuroGlyde to current therapies for cognitive decline in the elderly.  \\n• Discussed NeuroGlyde's potential cost  savings in long -term care settings.  \\n9. Access and Reimbursement:  \\n• Provided updates on access and reimbursement programs specific to geriatric care \\nfacilities.  \\n• Shared information on Medicare coverage for NeuroGlyde.  \\n10. Action Items and Follow -Up: \\n• Dr. Mitchell exp ressed interest in educational sessions for the Harmony Senior Care \\nstaff.  \\n• Agreed upon a follow -up in three weeks to coordinate an on -site educational session.  \\n11. Closing Remarks:  \\n• Expressed gratitude for Dr. Mitchell's dedication to geriatric mental health.  \\n• Reiterated commitment to supporting Harmony Senior Care in providing optimal care \\nfor their residents.\", metadata={'source': '../../../data/call_notes/MSL_Notes_3.pdf', 'page': 1}),\n",
       " Document(page_content=\"Subject:  Medical Scien ce Liaison (MSL) Notes - Detailed Safety Concerns and Side Effects Discussion on \\nPediatricEase  \\nDate:  October 10, 2025  \\nProvider:  Dr. Angela Bennett  \\nTitle:  Pediatric Neurologist  \\nInstitution:  ChildCare Neurology Center  \\nSummary of Key Discussion Points:  \\n1. Introd uction:  \\n• Introduced PediatricEase as a potential therapy for pediatric migraines in children under \\n12. \\n• Dr. Bennett expressed initial interest but emphasized concerns about safety, especially \\nconsidering the vulnerable pediatric population.  \\n2. Provider's Current Patient Cases:  \\n• Dr. Bennett shared cautious observations about introducing new medications to \\nchildre n with migraines.  \\n• Discussed specific cases where current treatments have shown established safety \\nrecords in pediatric neurology.  \\n3. Efficacy and Clinical Data:  \\n• Presented recent clinical data showcasing PediatricEase's efficacy in reducing migraine \\nfrequency and improving overall well -being in pediatric patients.  \\n• Dr. Bennett questioned the depth of safety data, especially concerning potential long -\\nterm effects on pediatric neurodevelopment.  \\n4. Safety Profile:  \\n• Discussed the favorable safety profile of PediatricEas e, emphasizing the rigorous \\npediatric -specific safety assessments during development.  \\n• Dr. Bennett sought specific details on reported side effects and expressed concerns \\nabout the documented instances of gastrointestinal disturbances and headaches \\nobserved  in the pediatric clinical trials.  \\n5. Mechanism of Action:  \\n• Explained PediatricEase's mechanism, focusing on its targeted modulation of specific \\nneurotransmitter pathways involved in pediatric migraines.  \\n• Dr. Bennett appreciated the detailed explanation but rai sed concerns about potential \\ncognitive effects, given the intricate nature of neurotransmitter modulation in \\ndeveloping brains.  \\n6. Patient Adherence and Education:\", metadata={'source': '../../../data/call_notes/MSL_Notes_30.pdf', 'page': 0}),\n",
       " Document(page_content=\"• Discussed strategies for enhancing patient adherence through a once -daily oral solution \\nwith a child -friendly flavor.  \\n• Dr. Bennett raised concerns about potential challenges in monitoring pediatric patients \\nfor adverse effects, ensuring proper medication administration, and highlighted the \\nneed for detailed educational materials for parents.  \\n7. Emerging  Research and Future Developments:  \\n• Highlighted ongoing research on PediatricEase's potential in other pediatric headache \\ndisorders.  \\n• Dr. Bennett questioned the necessity for expanding research without addressing \\nexisting concerns about safety, especially in  light of emerging data on potential impacts \\non growth and development.  \\n8. Competitive Landscape:  \\n• Compared PediatricEase to existing treatments for pediatric migraines, focusing on \\nsafety profiles and documented side effects.  \\n• Discussed the importance of transparency in reporting adverse events and addressing \\npediatric neurologists' concerns.  \\n9. Access and  Reimbursement:  \\n• Provided updates on access and reimbursement programs for pediatric clinics.  \\n• Dr. Bennett expressed reservations about recommending a new medication without \\nextensive safety data and clear advantages over existing treatments, particularly wi th \\ndocumented cases of treatment discontinuation due to side effects observed in the \\nclinical trials.  \\n10. Action Items and Follow -Up: \\n• Dr. Bennett declined any further collaboration or follow -up until more comprehensive \\nsafety data, especially in real -world set tings, becomes available.  \\n• Expressed a preference for observing real -world outcomes and suggested a detailed \\nreview of post -marketing surveillance data before considering PediatricEase in her \\npractice.  \\n11. Closing Remarks:  \\n• Acknowledged Dr. Bennett's detailed concerns and thanked her for her cautious \\napproach to pediatric neurology.  \\n• Expressed understanding and commitment to addressing ongoing questions or concerns \\nas additional real -world data becomes available.\", metadata={'source': '../../../data/call_notes/MSL_Notes_30.pdf', 'page': 1}),\n",
       " Document(page_content=\"Subject:  Medical Science Liaison (MSL) Notes - Skepticism an d Concerns on NanoFlexa  \\nDate:  July 28, 2025  \\nProvider:  Dr. Jonathan Turner  \\nTitle:  Rheumatologist  \\nInstitution:  JointEase Rheumatology Clinic  \\nSummary of Key Discussion Points:  \\n1. Introduction:  \\n• Introduced NanoFlexa as an innovative therapy for rheumatoid arthritis with a \\nnanoparticle -based delivery system.  \\n• Dr. Turner expressed skepticism, questioning the need for a localized delivery system for \\nRA treatment.  \\n2. Provider's Current Patient Cases:  \\n• Dr. Turner shared reservations about introducing a new delivery method without clear \\nadvantages over existing systemic therapies.  \\n• Discussed specific cases where traditional DMARDs and biologics have shown \\nestablished efficacy in managing RA.  \\n3. Efficacy and Clini cal Data:  \\n• Presented recent clinical data showcasing NanoFlexa's reduction in RA disease activity \\nscores and improvements in joint function.  \\n• Dr. Turner questioned the clinical significance of the reported improvements and sought \\ncomparative data against est ablished treatments.  \\n4. Safety Profile:  \\n• Discussed the favorable safety profile of NanoFlexa, with the unique benefit of localized \\njoint delivery.  \\n• Dr. Turner expressed concerns about potential unknowns with localized delivery and \\nquestioned the long -term safet y implications.  \\n5. Mechanism of Action : \\n• Explained NanoFlexa's mode of delivery, utilizing a subcutaneous implant with \\ncontrolled release of nanoparticles at the joint site.  \\n• Dr. Turner questioned the necessity for such a novel delivery method and expressed \\nconcerns about patient acceptance.  \\n6. Patie nt Adherence and Education:  \\n• Discussed strategies for enhancing patient adherence through the convenience of a \\nsemi -annual subcutaneous implant.\", metadata={'source': '../../../data/call_notes/MSL_Notes_28.pdf', 'page': 0}),\n",
       " Document(page_content=\"• Dr. Turner expressed skepticism about patient compliance, citing potential \\napprehensions and discomfort with the  implant procedure.  \\n7. Emerging Research and Future Developments:  \\n• Highlighted ongoing research on NanoFlexa's potential in other inflammatory joint \\nconditions.  \\n• Dr. Turner questioned the need for expanding research without addressing existing \\nconcerns about th e drug's efficacy and delivery.  \\n8. Competitive Landscape:  \\n• Compared NanoFlexa to existing systemic DMARDs, expressing doubts about its \\npotential advantages.  \\n• Discussed challenges of introducing a new drug and delivery method without clear \\nbenefits over establis hed treatments.  \\n9. Access and Reimbursement:  \\n• Provided updates on access and reimbursement programs for rheumatology clinics.  \\n• Dr. Turner expressed reservations about the cost -effectiveness of NanoFlexa compared \\nto existing treatments.  \\n10. Action Items and Follow -Up: \\n• Dr. Turner declined any further collaboration or follow -up in the near future.  \\n• Expressed a preference for waiting until more substantial data and real -world evidence \\non NanoFlexa's efficacy and safety become available.  \\n11. Closing Remarks:  \\n• Acknowledged Dr. Turner's concerns and thanked him for his candid feedback.  \\n• Expressed understanding and commitment to addressing ongoing questions or concerns \\nif additional data becomes available.\", metadata={'source': '../../../data/call_notes/MSL_Notes_28.pdf', 'page': 1}),\n",
       " Document(page_content=\"Subject:  Medical Science Liaison (MSL) Notes - Positive Discussion on Revitalizix  \\nDate:  October 10, 2023  \\nProvider:  Dr. Samantha Nguyen  \\nTitle:  Cardiologist  \\nInstitution:  Heartwell Cardiovascular Clinic  \\nSummary of Key Discussion Points:  \\n1. Introduction:  \\n• Introduced Revitalizix as an innovative cardiovascular therapy targeting heart failure \\nwith preserved ejection fraction.  \\n• Emphasized the potential impact of Revitalizix in improving patient outcomes and \\nqualit y of life.  \\n2. Provider's Current Patient Cases:  \\n• Discussed Dr. Nguyen's positive experiences with Revitalizix in managing heart failure \\npatients.  \\n• Highlighted cases where patients exhibited improved exercise tolerance and reduced \\nhospitalization rates.  \\n3. Efficacy and Clinical Data:  \\n• Presented recent clinical data showcasing Revitalizix's efficacy in improving left \\nventricular diastolic function.  \\n• Discussed statistically significant improvements in exercise capacity and quality of life \\nscores.  \\n4. Safety Profile:  \\n• Discussed the favorable safety profile of Revitalizix, with low rates of adverse events \\nreported.  \\n• Dr. Nguyen expressed confidence in the drug's safety based on her patient experiences.  \\n5. Mechanism of Action:  \\n• Explained Revitalizix's unique mechanism targetin g myocardial stiffness and \\ninflammation.  \\n• Dr. Nguyen appreciated the specificity of the drug's action and its potential to address \\nunderlying causes.  \\n6. Patient Adherence and Education:  \\n• Dr. Nguyen shared successful strategies for enhancing patient adherence to  Revitalizix \\ntherapy.  \\n• Discussed positive feedback from patients regarding educational materials provided.  \\n7. Emerging Research and Future Developments:\", metadata={'source': '../../../data/call_notes/MSL_Notes_8.pdf', 'page': 0}),\n",
       " Document(page_content=\"• Highlighted ongoing research on Revitalizix's potential applications in other \\ncardiovascular conditions.  \\n• Discussed plans for exploring combination therapies to further enhance patient \\noutcomes.  \\n8. Competitive Landscape:  \\n• Compared Revitalizix to existing heart failure therapies, emphasizing its unique focus on \\npreserved ejection fraction.  \\n• Discussed the potential for  Revitalizix to become a cornerstone in heart failure \\nmanagement.  \\n9. Access and Reimbursement:  \\n• Provided updates on access and reimbursement programs for cardiovascular clinics.  \\n• Shared information on patient assistance programs to ensure affordability.  \\n10. Action Items and Follow -Up: \\n• Dr. Nguyen expressed interest in participating in upcoming research initiatives related to \\nRevitalizix.  \\n• Agreed upon a follow -up in six weeks to provide a dditional research details and discuss \\ncollaboration opportunities.  \\n11. Closing Remarks:  \\n• Expressed gratitude for Dr. Nguyen's positive experiences and dedication to advancing \\ncardiovascular care.  \\n• Reiterated commitment to ongoing collaboration and support for H eartwell \\nCardiovascular Clinic.\", metadata={'source': '../../../data/call_notes/MSL_Notes_8.pdf', 'page': 1}),\n",
       " Document(page_content=\"Subject:  Medical Science Liaison (MSL) Notes - Introduction of PulmoVive  \\nDate:  August 10, 2024  \\nProvider:  Dr. Jonathan Reynolds  \\nTitle:  Pulmonologist  \\nInstitution:  RespiraLung Pulmonary Clinic  \\nSummary of Key Discussion Points:  \\n1. Introduction:  \\n• Introduced PulmoVive as an innovative therapy for managing moderate to severe \\nchronic obstructive pulmonary disease (COPD).  \\n• Emphasized its unique mechanism targeting both bronchoconstriction and airway \\ninflammation.  \\n2. Provider's Current Patient Cases:  \\n• Dr. Re ynolds expressed interest in new interventions for patients experiencing \\nexacerbations despite standard COPD treatments.  \\n• Discussed specific cases where current bronchodilators and anti -inflammatory agents \\nhave shown limited efficacy.  \\n3. Efficacy and Clinical Data:  \\n• Presented recent clinical data showcasing PulmoVive's ability to improve FEV1 by 15% \\nand reduce exacerbation rates by 30%.  \\n• Highlighted statistically significant improvements in quality of life scores and exercise \\ntolerance.  \\n4. Safe ty Profile:  \\n• Discussed the favorable safety profile of PulmoVive, with a low incidence of respiratory \\nadverse events.  \\n• Dr. Reynolds inquired about potential interactions with commonly prescribed \\nmedications in COPD management.  \\n5. Mechanism of Action:  \\n• Explained PulmoVive's dual mechanism, focusing on bronchodilation and modulation of \\ninflammatory pathways.  \\n• Dr. Reynolds appreciated the drug's unique approach and sought insights into its impact \\non preventing disease progression.  \\n6. Patient Adherence and Education:  \\n• Discussed strategies for enhancing patient adherence through a once -daily inhaler and \\nconvenient administration.\", metadata={'source': '../../../data/call_notes/MSL_Notes_17.pdf', 'page': 0}),\n",
       " Document(page_content=\"• Shared patient education materials emphasizing the importance of early intervention in \\nCOPD management.  \\n7. Emerging Research and Future Developments:  \\n• Highlighted ongoing research on PulmoVive's potential in addressing comorbidities \\nassociated with COPD, such as cardiovascular risk.  \\n• Discussed plans for exploring combination therapies to optimize overall respiratory \\nhealth.  \\n8. Competitive Landscape:  \\n• Compare d PulmoVive to existing COPD therapies, emphasizing its dual -action \\nmechanism and potential for comprehensive disease management.  \\n• Discussed the need for tailoring treatments to individual patient profiles in COPD care.  \\n9. Access and Reimbursement:  \\n• Provided updates on access and reimbursement programs for pulmonary clinics.  \\n• Discussed potential affordability concerns and patient assistance programs.  \\n10. Action Items and Follow -Up: \\n• Dr. Reynolds expressed interest in participating in ongoing real -world evid ence studies \\nfor PulmoVive.  \\n• Agreed upon a follow -up in three months to provide additional data and address any \\nongoing concerns.  \\n11. Closing Remarks:  \\n• Expressed gratitude for Dr. Reynolds's commitment to advancing respiratory care.  \\n• Reiterated commitment to ongo ing collaboration and support for the RespiraLung \\nPulmonary Clinic.\", metadata={'source': '../../../data/call_notes/MSL_Notes_17.pdf', 'page': 1}),\n",
       " Document(page_content=\"Subject:  Medical Science Liaison (MSL) Notes - In-Depth Discussion on Aetherisol  \\nDate:  March 15, 2023  \\nProvider:  Dr. Olivia Reynolds  \\nTitle:  Rheumatologist  \\nInstitution:  Metropolitan Medical Center  \\nSummary of Key Discussion Points:  \\n1. Introduction:  \\n• Expressed gratitude fo r the opportunity to discuss Aetherisol, a novel interleukin -17 \\ninhibitor.  \\n• Discussed Aetherisol's recent approval and its potential impact on refractory \\nrheumatoid arthritis (RA) cases.  \\n2. Provider's Current Patient Cases:  \\n• Inquired about Dr. Reynolds' current patient cases considering Aetherisol.  \\n• Discussed three specific RA cases where Aetherisol demonstrated a remarkable 30% \\nimprovement in joint function within the first month.  \\n3. Efficacy and Clinical Data:  \\n• Presented recent c linical data supporting Aetherisol's efficacy.  \\n• Highlighted a 60% reduction in disease activity scores observed in a 6 -month clinical trial \\ninvolving 200 patients.  \\n4. Safety Profile:  \\n• Discussed Aetherisol's safety profile, emphasizing its low incidence of gastr ointestinal \\nside effects (2% reported).  \\n• Addressed concerns about adverse events, noting that no severe adverse events were \\nreported in long -term studies.  \\n5. Mechanism of Action:  \\n• Explained Aetherisol's unique mechanism of action targeting interleukin -17 pathwa ys. \\n• Quantified its efficacy by discussing a 45% reduction in inflammatory cytokines observed \\nin preclinical studies.  \\n6. Patient Adherence and Education:  \\n• Explored strategies for optimizing patient adherence, citing a 20% increase in adherence \\nrates when patien ts received personalized educational materials.  \\n7. Emerging Research and Future Developments:  \\n• Highlighted ongoing research on Aetherisol's potential in psoriatic arthritis.\", metadata={'source': '../../../data/call_notes/MSL_Notes_1.pdf', 'page': 0}),\n",
       " Document(page_content=\"• Discussed a forthcoming Phase III trial aiming to assess Aetherisol's efficacy in redu cing \\nradiographic progression.  \\n8. Competitive Landscape:  \\n• Compared Aetherisol to other biologics, underscoring its superior response rates.  \\n• Quoted a recent market survey indicating a 15% preference for Aetherisol among \\nsurveyed rheumatologists.  \\n9. Access and Reimbursement:  \\n• Provided an update on access and reimbursement for Aetherisol.  \\n• Shared data on a streamlined reimbursement process, resulting in a 25% reduction in \\npatient out -of-pocket costs.  \\n10. Action Items and Follow -Up: \\n• Dr. Reynolds requested add itional patient case studies for her review.  \\n• Agreed upon a follow -up in two weeks to provide the requested materials and discuss \\npatient outcomes.  \\n11. Closing Remarks:  \\n• Expressed appreciation for Dr. Reynolds' time and valuable insights.  \\n• Reiterated commitment t o ongoing support and collaboration.\", metadata={'source': '../../../data/call_notes/MSL_Notes_1.pdf', 'page': 1}),\n",
       " Document(page_content=\"Subject:  Medical Science Liaison (MSL) Notes - In-Depth Discussion on Prolifixin  \\nDate:  July 12, 2023  \\nProvider:  Dr. Emily Rodriguez  \\nTitle:  Oncologist  \\nInstitution:  Summit Cancer Center  \\nSummary of Key Discussion Points:  \\n1. Introduction:  \\n• Introduced Prolifixin as an innovative targeted therapy for advanced breast cancer.  \\n• Discussed its unique mechani sm of inhibiting cell proliferation pathways.  \\n2. Provider's Current Patient Cases:  \\n• Explored Dr. Rodriguez's experiences with Prolifixin in HER2 -positive breast cancer \\ncases.  \\n• Discussed notable tumor shrinkage and improved progression -free survival in treated \\npatients.  \\n3. Efficacy and Clinical Data:  \\n• Presented data showing a 50% increase in overall survival rates in a Phase II clinical trial.  \\n• Highlighted Prolifixin's efficacy in reducing the risk of metastasis.  \\n4. Safety Profile:  \\n• Discussed the favorable safety profile of Prolifixin, with minimal cardiac and \\nhematologic side effects.  \\n• Addressed concerns related to potential adverse events and the ne ed for routine \\nmonitoring.  \\n5. Mechanism of Action:  \\n• Explained Prolifixin's unique mechanism targeting HER2 -positive cancer cells.  \\n• Quantified improvements in apoptosis rates and tumor regression observed in \\npreclinical studies.  \\n6. Patient Adherence and Education:  \\n• Explored strategies for supporting patient adherence during long -term cancer therapy.  \\n• Shared patient testimonials on the manageable side effect profile of Prolifixin.  \\n7. Emerging Research and Future Developments:  \\n• Highlighted ongoing research on Prolifixin's p otential in other solid tumors.  \\n• Discussed plans for combination therapy trials to enhance treatment outcomes.  \\n8. Competitive Landscape:\", metadata={'source': '../../../data/call_notes/MSL_Notes_5.pdf', 'page': 0}),\n",
       " Document(page_content=\"• Compared Prolifixin to current standard -of-care therapies for HER2 -positive breast \\ncancer.  \\n• Discussed the potential role of Prolifixin as a first -line treatment option.  \\n9. Access and Reimbursement:  \\n• Provided updates on access and reimbursement programs for oncology clinics.  \\n• Shared information on patient assistance programs to ensure affordability.  \\n10. Action Items and Follow -Up: \\n• Dr. Rodriguez expressed interest in participating in a multicenter trial for Prolifixin.  \\n• Agreed upon a follow -up in six weeks to provide trial details an d discuss collaboration \\nopportunities.  \\n11. Closing Remarks:  \\n• Expressed gratitude for Dr. Rodriguez's dedication to advancing cancer care.  \\n• Reiterated commitment to supporting Summit Cancer Center in offering innovative \\noncology treatments .\", metadata={'source': '../../../data/call_notes/MSL_Notes_5.pdf', 'page': 1}),\n",
       " Document(page_content=\"Subject:  Medical Science Liaison (MSL) Notes - Introduction  of Vitaligen in Cardiovascular Health  \\nDate:  May 20, 2024  \\nProvider:  Dr. Carlos Rodriguez  \\nTitle:  Cardiologist  \\nInstitution:  CardioVital Heart Center  \\nSummary of Key Discussion Points:  \\n1. Introduction:  \\n• Introduced Vitaligen as a novel therapy targeting cardiovascu lar health, specifically \\nfocusing on reducing arterial stiffness.  \\n• Emphasized its unique mechanism promoting endothelial function and arterial elasticity.  \\n2. Provider's Current Patient Cases:  \\n• Dr. Rodriguez expressed interest in innovative approaches to address cardiovascular risk \\nfactors.  \\n• Discussed specific cases where patients have struggled to achieve optimal blood \\npressure control with existing treatments.  \\n3. Efficacy and Clinical Data:  \\n• Present ed recent clinical data showcasing Vitaligen's ability to reduce arterial stiffness \\nby 15% on average.  \\n• Highlighted statistically significant improvements in blood pressure control and vascular \\nhealth.  \\n4. Safety Profile:  \\n• Discussed the favorable safety profile of Vitaligen, with minimal reported cardiovascular \\nside effects.  \\n• Dr. Rodriguez inquired about potential interactions with commonly prescribed \\ncardiovascular medications.  \\n5. Mechanism of Action:  \\n• Explained Vitaligen's mechanism, focusing on its role in enhancin g nitric oxide \\nproduction and reducing oxidative stress.  \\n• Dr. Rodriguez appreciated the drug's unique approach and sought insights into its long -\\nterm impact on cardiovascular outcomes.  \\n6. Patient Adherence and Education:  \\n• Discussed strategies for enhancing pati ent adherence through once -daily dosing and \\nconvenient administration.  \\n• Shared patient education materials emphasizing the importance of arterial health in \\noverall cardiovascular well -being.\", metadata={'source': '../../../data/call_notes/MSL_Notes_14.pdf', 'page': 0}),\n",
       " Document(page_content=\"7. Emerging Research and Future Developments:  \\n• Highlighted ongoing res earch on Vitaligen's potential in preventing cardiovascular \\nevents in high -risk populations.  \\n• Discussed plans for exploring combination therapies to address multifactorial \\ncardiovascular risk factors.  \\n8. Competitive Landscape:  \\n• Compared Vitaligen to existing cardiovascular medications, emphasizing its potential to \\naddress a specific aspect of cardiovascular health.  \\n• Discussed the potential for Vitaligen to be integrated into comprehensive cardiovascular \\nrisk reduction strategies.  \\n9. Access and Reimbursement:  \\n• Provided updates on access and reimbursement programs for cardiology clinics.  \\n• Discussed potential affordability concerns and patient assistance programs.  \\n10. Action Items and Follow -Up: \\n• Dr. Rodriguez expressed interest in participatin g in ongoing clinical trials related to \\nVitaligen in cardiovascular health.  \\n• Agreed upon a follow -up in three months to provide additional data and address any \\nongoing concerns.  \\n11. Closing Remarks:  \\n• Expressed gratitude for Dr. Rodriguez's dedication to advancin g cardiovascular care.  \\n• Reiterated commitment to ongoing collaboration and support for the CardioVital Heart \\nCenter.\", metadata={'source': '../../../data/call_notes/MSL_Notes_14.pdf', 'page': 1}),\n",
       " Document(page_content=\"Subject:  Medical Science Liaison (MSL) Notes - Critical Discussion on OsteoGuard  \\nDate:  March 10, 2024  \\nProvider:  Dr. Olivia Harper  \\nTitle:  Orthopedic Surgeon  \\nInstitution:  JointCare Orthopedic Clinic  \\nSummary of Key Discussion Points:  \\n1. Introduction:  \\n• Introduced OsteoGuard as a potential therapy for osteoporosis, focusing on bone health \\npreservation.  \\n• Dr. Harper expressed skepticism about the need for another osteoporosis treatment \\ngiven the existing therapeutic options.  \\n2. Provider's Current Patient Cases:  \\n• Dr. Harper shared concerns about limited improvements observed in her patients \\nreceiving OsteoGuard.  \\n• Discussed cases where patients experienced no discernible change in bone mineral \\ndensity or fracture risk.  \\n3. Efficacy and Clinical Data:  \\n• Presented recent cl inical data showcasing OsteoGuard's modest increase in bone \\nmineral density.  \\n• Dr. Harper questioned the clinical significance of the reported improvements and their \\nimpact on fracture prevention.  \\n4. Safety Profile:  \\n• Discussed the reported safety profile of Oste oGuard, but Dr. Harper expressed \\nreservations about potential long -term safety concerns.  \\n• Raised concerns about the lack of data on OsteoGuard's use in patients with complex \\northopedic conditions.  \\n5. Mechanism of Action:  \\n• Explained OsteoGuard's mechanism, focusing on its role in modulating osteoclast \\nactivity.  \\n• Dr. Harper questioned the drug's specificity, suggesting potential off -target effects and \\ntheir implications for orthopedic patients.  \\n6. Patient Adherence and Education:  \\n• Dr. Harper expressed frustration with patient adherence issues, attributing it to \\nperceived lack of significant benefits.  \\n• Discussed patient feedback indicating a preference for other osteoporosis therapies.\", metadata={'source': '../../../data/call_notes/MSL_Notes_13.pdf', 'page': 0}),\n",
       " Document(page_content=\"7. Emerging Research and Future Developments:  \\n• Highl ighted ongoing research on OsteoGuard's potential in preventing glucocorticoid -\\ninduced osteoporosis.  \\n• Dr. Harper questioned the rationale behind expanding research without addressing \\nexisting concerns.  \\n8. Competitive Landscape:  \\n• Compared OsteoGuard to existing osteoporosis therapies, with Dr. Harper expressing a \\npreference for more established options.  \\n• Discussed the challenges of introducing a new drug without clear advantages over \\nexisting treatments.  \\n9. Access and Reimbursement:  \\n• Dr. Harper expressed skepticism ab out the cost -effectiveness of OsteoGuard, especially \\ngiven existing therapeutic alternatives.  \\n• Shared concerns about potential financial burdens on patients and healthcare systems.  \\n10. Action Items and Follow -Up: \\n• Dr. Harper did not express interest in further c ollaboration or follow -up. \\n• Agreed to remain open to future data and evidence but expressed skepticism about the \\ndrug's practical impact.  \\n11. Closing Remarks:  \\n• Acknowledged Dr. Harper's concerns and thanked her for her candid feedback.  \\n• Expressed understanding and committed to addressing ongoing questions or concerns \\nas the drug's development progresses.\", metadata={'source': '../../../data/call_notes/MSL_Notes_13.pdf', 'page': 1}),\n",
       " Document(page_content=\"Subject:  Medical Science Liaison (MSL) Notes - Introduction of CardioGuardia  \\nDate:  November 20, 2024  \\nProvider:  Dr. Michael Chen  \\nTitle:  Cardiologist  \\nInstitution:  HeartCare Cardiovascular Center  \\nSummary of Key Discussion Points:  \\n1. Introduction:  \\n• Introduced CardioGuardia as an innovative therapy for the prevention of atherosclerotic \\ncardiovasc ular events.  \\n• Emphasized its unique mechanism targeting both lipid metabolism and endothelial \\nfunction.  \\n2. Provider's Current Patient Cases:  \\n• Dr. Chen expressed interest in new approaches to cardiovascular risk reduction.  \\n• Discussed specific cases where current lipid -lowering therapies have shown limited \\nefficacy or undesirable side effects.  \\n3. Efficacy and Clinical Data:  \\n• Presented recent clinical data showcasing CardioGuardia's ability to reduce LDL \\ncholesterol by 40% and decrease major cardiovascular events by 25%.  \\n• Highlighted statistically significant improvements in arterial health and atherogenic lipid \\nprofiles.  \\n4. Safety  Profile:  \\n• Discussed the favorable safety profile of CardioGuardia, with minimal reported adverse \\neffects.  \\n• Dr. Chen inquired about potential interactions with commonly prescribed cardiovascular \\nmedications.  \\n5. Mechanism of Action:  \\n• Explained CardioGuardia's dua l mechanism, focusing on lipid modulation and \\nenhancement of endothelial nitric oxide production.  \\n• Dr. Chen appreciated the drug's comprehensive approach and sought insights into its \\npotential for long -term cardiovascular risk reduction.  \\n6. Patient Adherence a nd Education:  \\n• Discussed strategies for enhancing patient adherence through a once -daily oral \\nformulation.  \\n• Shared patient education materials emphasizing the importance of sustained lipid \\ncontrol for overall cardiovascular health.\", metadata={'source': '../../../data/call_notes/MSL_Notes_20.pdf', 'page': 0}),\n",
       " Document(page_content=\"7. Emerging Research and Futu re Developments:  \\n• Highlighted ongoing research on CardioGuardia's potential in addressing residual \\ncardiovascular risk in high -risk populations.  \\n• Discussed plans for exploring combination therapies to address multifactorial \\ncardiovascular risk factors.  \\n8. Compe titive Landscape:  \\n• Compared CardioGuardia to existing cardiovascular medications, emphasizing its dual -\\naction mechanism and potential for comprehensive cardiovascular risk reduction.  \\n• Discussed the need for individualized treatment plans considering the dive rse nature of \\ncardiovascular risk.  \\n9. Access and Reimbursement:  \\n• Provided updates on access and reimbursement programs for cardiovascular clinics.  \\n• Discussed potential affordability concerns and patient assistance programs.  \\n10. Action Items and Follow -Up: \\n• Dr. Chen expressed interest in participating in ongoing real -world evidence studies for \\nCardioGuardia.  \\n• Agreed upon a follow -up in three months to provid e additional data and address any \\nongoing concerns.  \\n11. Closing Remarks:  \\n• Expressed gratitude for Dr. Chen's commitment to advancing cardiovascular care.  \\n• Reiterated commitment to ongoing collaboration and support for the HeartCare \\nCardiovascular Center.\", metadata={'source': '../../../data/call_notes/MSL_Notes_20.pdf', 'page': 1}),\n",
       " Document(page_content=\"Subject:  Med ical Science Liaison (MSL) Notes - Introduction of CardioRelief  \\nDate:  December 10, 2025  \\nProvider:  Dr. Elizabeth Hayes  \\nTitle:  Cardiologist  \\nInstitution:  HeartWell Cardiovascular Clinic  \\nSummary of Key Discussion Points:  \\n1. Introduction:  \\n• Introduced CardioRelief as an innovative therapy for managing hypertension and \\nreducing cardiovascular risk.  \\n• Emphasized its unique mechanism targeting both blood pressure regulation and \\nvascular health.  \\n2. Provider's Current Patient Cases:  \\n• Dr. Hayes expressed  interest in advanced treatments for hypertension, particularly in \\npatients with comorbidities.  \\n• Discussed specific cases where current antihypertensive medications have shown \\nlimitations or tolerability issues.  \\n3. Efficacy and Clinical Data:  \\n• Presented recent clinical data showcasing CardioRelief's ability to effectively lower \\nblood pressure and improve vascular function.  \\n• Highlighted statistically significant reductions in both systolic and diastolic blood \\npressure m easurements.  \\n4. Safety Profile:  \\n• Discussed the favorable safety profile of CardioRelief, with minimal reported adverse \\neffects.  \\n• Dr. Hayes inquired about potential interactions with commonly prescribed \\ncardiovascular medications and the long -term safety conside rations.  \\n5. Mechanism of Action:  \\n• Provided a detailed explanation of CardioRelief's mechanism, focusing on its dual -action \\napproach in modulating blood pressure and supporting arterial health.  \\n• Dr. Hayes appreciated the detailed explanation and sought insights into potential \\nbenefits for patients with resistant hypertension.  \\n6. Patient Adherence and Education:  \\n• Discussed strategies for enhancing patient adherence through a once -daily oral tablet.  \\n• Shared patient education materials emphasizing the importance of consi stent blood \\npressure management and lifestyle improvements.\", metadata={'source': '../../../data/call_notes/MSL_Notes_31.pdf', 'page': 0}),\n",
       " Document(page_content=\"7. Emerging Research and Future Developments:  \\n• Highlighted ongoing research on CardioRelief's potential in preventing cardiovascular \\nevents and addressing specific risk factors.  \\n• Discussed plans for ex ploring combination therapies to address diverse cardiovascular \\nconditions often present in hypertensive patients.  \\n8. Competitive Landscape:  \\n• Compared CardioRelief to existing antihypertensive medications, emphasizing its unique \\ndual -action mechanism and poten tial for comprehensive cardiovascular risk reduction.  \\n• Discussed the need for personalized treatment plans considering the various \\ncardiovascular risk profiles of patients.  \\n9. Access and Reimbursement:  \\n• Provided updates on access and reimbursement programs for cardiology clinics.  \\n• Discussed potential affordability concerns and patient assistance programs for \\nindividuals seeking advanced cardiovascular care.  \\n10. Action Items and Follow -Up: \\n• Dr. Hayes expressed k een interest in incorporating CardioRelief into her practice for \\npatients with resistant hypertension.  \\n• Agreed upon a follow -up in three months to assess patient response and discuss any \\nemerging concerns.  \\n11. Closing Remarks:  \\n• Expressed gratitude for Dr. Hayes' s commitment to advancing cardiovascular care.  \\n• Reiterated commitment to ongoing collaboration and support for the HeartWell \\nCardiovascular Clinic.\", metadata={'source': '../../../data/call_notes/MSL_Notes_31.pdf', 'page': 1}),\n",
       " Document(page_content=\"Subject:  Medical Science Liaison (MSL) Notes - In-Depth Discussion on NeuroGlyde  \\nDate:  April 10, 2023  \\nProvider:  Dr. James Harper  \\nTitle:  Neurologist  \\nInstitution:  City Neurology Clinic  \\nSummary of Key Discussion Points:  \\n1. Introduction:  \\n• Introduced NeuroGlyde, a novel neuroprotective agent, emphasizing its potential in \\nslowing disease progression.  \\n• Discussed ongoing clinical trials and positive early -phase results.  \\n2. Provider's Current Patient C ases:  \\n• Explored Dr. Harper's experience with NeuroGlyde in treating neurodegenerative \\ndisorders.  \\n• Discussed improvements in cognitive function observed in Alzheimer's patients.  \\n3. Efficacy and Clinical Data:  \\n• Presented data demonstrating a 40% reduction in annualized relapse rates in multiple \\nsclerosis patients.  \\n• Highlighted significant improvements in quality of life measures.  \\n4. Safety Profile:  \\n• Discussed the favorable safety profile of NeuroGlyde, with no serious  adverse events \\nreported in long -term studies.  \\n• Addressed concerns related to potential neurological side effects.  \\n5. Mechanism of Action:  \\n• Explained NeuroGlyde's unique mechanism targeting neuroinflammation.  \\n• Quantified its efficacy by discussing a 30% reductio n in inflammatory biomarkers.  \\n6. Patient Adherence and Education:  \\n• Explored strategies for enhancing patient adherence, including simplified dosing \\nregimens.  \\n• Shared educational materials tailored for both patients and caregivers.  \\n7. Emerging Research and Future D evelopments:  \\n• Highlighted ongoing research on NeuroGlyde's potential in Parkinson's disease.  \\n• Discussed plans for expanded access programs and patient registries.  \\n8. Competitive Landscape:\", metadata={'source': '../../../data/call_notes/MSL_Notes_2.pdf', 'page': 0}),\n",
       " Document(page_content=\"• Compared NeuroGlyde to current neuroprotective therapies, emphasizing it s disease -\\nmodifying potential.  \\n• Discussed NeuroGlyde's cost -effectiveness compared to alternative treatments.  \\n9. Access and Reimbursement:  \\n• Provided updates on access and reimbursement programs.  \\n• Shared insights into patient assistance programs, ensuring affordability.  \\n10. Action Items and Follow -Up: \\n• Dr. Harper expressed interest in participating in upcoming clinical trials.  \\n• Agreed upon a follow -up in one month to provide trial details and discuss pote ntial \\ncollaboration.  \\n11. Closing Remarks:  \\n• Expressed gratitude for Dr. Harper's engagement and interest in advancing \\nneurodegenerative research.  \\n• Reiterated commitment to ongoing collaboration and support.\", metadata={'source': '../../../data/call_notes/MSL_Notes_2.pdf', 'page': 1}),\n",
       " Document(page_content=\"Subject:  Medical Scien ce Liaison (MSL) Notes - Critical Discussion on Tranquilify  \\nDate:  August 5, 2023  \\nProvider:  Dr. Jennifer Turner  \\nTitle:  Psychiatrist  \\nInstitution:  Serenity Behavioral Health Clinic  \\nSummary of Key Discussion Points:  \\n1. Introduction:  \\n• Introduced Tranquilify as a novel anxiolytic with potential applications in generalized \\nanxiety disorder.  \\n• Dr. Turner expressed reservations about the need for new anxiolytic options.  \\n2. Provider's Current Patient Cases:  \\n• Dr. Turner shared concerns about the li mited efficacy observed in her initial trials with \\nTranquilify.  \\n• Discussed patient dissatisfaction and perceived lack of significant symptom \\nimprovement.  \\n3. Efficacy and Clinical Data:  \\n• Presented data highlighting Tranquilify's efficacy in reducing anxiety symp toms by 20%.  \\n• Dr. Turner questioned the clinical significance of the reported reduction and expressed \\nskepticism about its statistical relevance.  \\n4. Safety Profile:  \\n• Discussed the safety profile, emphasizing Tranquilify's low incidence of common side \\neffects.  \\n• Dr. Turner raised concerns about the reported incidence of rare side effects and their \\npotential impact on patient well -being.  \\n5. Mechanism of Action:  \\n• Explained Tranquilify's unique mechanism targeting GABA receptors.  \\n• Dr. Turner challenged the drug's specificity, questioning potential off -target effects and \\ntheir implications.  \\n6. Patient Adherence and Education:  \\n• Dr. Turner expressed frustration with patient  adherence issues, attributing it to \\nperceived lack of perceived benefits.  \\n• Discussed patient feedback indicating a preference for existing, more established \\nanxiolytic options.  \\n7. Emerging Research and Future Developments:\", metadata={'source': '../../../data/call_notes/MSL_Notes_6.pdf', 'page': 0}),\n",
       " Document(page_content=\"• Highlighted ongoing research on Tran quilify's potential in panic disorder.  \\n• Dr. Turner questioned the rationale behind expanding research given current concerns.  \\n8. Competitive Landscape:  \\n• Compared Tranquilify to established anxiolytics, with Dr. Turner expressing a preference \\nfor well -establishe d options.  \\n• Discussed the challenges of introducing a new drug in a saturated market.  \\n9. Access and Reimbursement:  \\n• Dr. Turner expressed skepticism about the cost -effectiveness of Tranquilify, especially \\ngiven existing generic alternatives.  \\n• Shared concerns abou t potential financial burdens on patients.  \\n10. Action Items and Follow -Up: \\n• Dr. Turner did not express interest in further collaboration or follow -up. \\n• Agreed to remain open to future data and evidence but expressed skepticism about the \\ndrug's future impact.  \\n11. Closing Remarks:  \\n• Acknowledged Dr. Turner's concerns and thanked her for her honest feedback.  \\n• Expressed understanding and committed to addressing any ongoing questions or \\nconcerns.\", metadata={'source': '../../../data/call_notes/MSL_Notes_6.pdf', 'page': 1}),\n",
       " Document(page_content=\"Subject:  Medical Science Liaison (MSL) Notes - Introduction of ImmunoViva  \\nDate: December 15, 2024  \\nProvider:  Dr. Sarah Mitchell  \\nTitle:  Immunologist  \\nInstitution:  ImmunoWell Immunology Clinic  \\nSummary of Key Discussion Points:  \\n1. Introduction:  \\n• Introduced ImmunoViva as an advanced immunomodulatory therapy designed to \\nenhance innate and adaptive immune responses.  \\n• Emphasized its unique mechanism targeting specific immune checkpoints and cytokine \\nsignaling pathways.  \\n2. Provider's Current Patient Cases:  \\n• Dr. Mitchell expressed interest in novel interventions for patients with autoimmune \\nconditions and immune dysregulation . \\n• Discussed specific cases where current immunomodulators have shown limited efficacy \\nor significant side effects.  \\n3. Efficacy and Clinical Data:  \\n• Presented recent clinical data showcasing ImmunoViva's ability to modulate immune \\nresponses, resulting in a 30% r eduction in autoimmune flare -ups. \\n• Highlighted statistically significant improvements in immune markers and patient -\\nreported outcomes.  \\n4. Safety Profile:  \\n• Discussed the favorable safety profile of ImmunoViva, with minimal reported \\nimmunosuppressive effects.  \\n• Dr. Mitchell inquired about potential interactions with commonly prescribed \\nimmunosuppressants.  \\n5. Mechanism of Action:  \\n• Explained ImmunoViva's mechanism, focusing on its selective modulation of immune \\ncheckpoints and cytokine balance.  \\n• Dr. Mitchell appreciated th e drug's targeted approach and sought insights into its \\npotential for long -term immune balance.  \\n6. Patient Adherence and Education:  \\n• Discussed strategies for enhancing patient adherence through a subcutaneous injection \\nevery two weeks.\", metadata={'source': '../../../data/call_notes/MSL_Notes_22.pdf', 'page': 0}),\n",
       " Document(page_content=\"• Shared patient education  materials emphasizing the importance of consistent immune \\nmodulation for sustained disease control.  \\n7. Emerging Research and Future Developments:  \\n• Highlighted ongoing research on ImmunoViva's potential in other autoimmune and \\ninflammatory conditions.  \\n• Discusse d plans for exploring combination therapies to address complex immune \\ndysregulation scenarios.  \\n8. Competitive Landscape:  \\n• Compared ImmunoViva to existing immunomodulators, emphasizing its selective \\nmodulation and potential for personalized immune therapy.  \\n• Discussed the need for tailored treatment plans considering the heterogeneous nature \\nof immune -mediated diseases.  \\n9. Access a nd Reimbursement:  \\n• Provided updates on access and reimbursement programs for immunology clinics.  \\n• Discussed potential affordability concerns and patient assistance programs.  \\n10. Action Items and Follow -Up: \\n• Dr. Mitchell expressed interest in enrolling patients in  ongoing clinical trials related to \\nImmunoViva in various immune -mediated conditions.  \\n• Agreed upon a follow -up in three months to provide additional data and address any \\nongoing concerns.  \\n11. Closing Remarks:  \\n• Expressed gratitude for Dr. Mitchell's dedication to  advancing immunology care.  \\n• Reiterated commitment to ongoing collaboration and support for the ImmunoWell \\nImmunology Clinic.\", metadata={'source': '../../../data/call_notes/MSL_Notes_22.pdf', 'page': 1}),\n",
       " Document(page_content=\"Subject:  Medical Science Liaison (MSL) Notes - NeuroSolvix in Neuropathic Pain Management  \\nDate:  March  25, 20 23 \\nProvider:  Dr. Joshua Martinez  \\nTitle:  Pain Management Specialist  \\nInstitution:  PainRelief Clinic  \\nSummary of Key Discussion Points:  \\n1. Introduction:  \\n• Introduced NeuroSolvix as a potential therapy for the management of neuropathic pain.  \\n• Emphasized its unique mechanism targeting central sensitization and neural \\nhyperactivity.  \\n2. Provider's Current Patient Cases:  \\n• Dr. Martinez expressed interest in novel approaches for patients with chronic \\nneuropathic pain.  \\n• Discussed specific cases where current analgesics and neuropathic pain medications \\nhave shown limited efficacy or significant side effects.  \\n3. Efficacy and Clinica l Data:  \\n• Presented recent clinical data showcasing NeuroSolvix's ability to reduce neuropathic \\npain scores by 40% and improve patient -reported quality of life.  \\n• Highlighted statistically significant improvements in pain -related functional outcomes.  \\n4. Safety Pr ofile:  \\n• Discussed the favorable safety profile of NeuroSolvix, with minimal reported adverse \\neffects.  \\n• Dr. Martinez inquired about potential interactions with commonly prescribed pain \\nmedications.  \\n5. Mechanism of Action:  \\n• Explained NeuroSolvix's mechanism, focusing on its role in modulating neural \\nhyperactivity and dampening central pain pathways.  \\n• Dr. Martinez appreciated the drug's targeted approach and sought insights into its \\npotential for long -term pain relief.  \\n6. Patient Adherence and Education:  \\n• Discussed strategies for enhancing patient adherence through a twice -monthly \\nsubcutaneous injection.  \\n• Shared patient education materials emphasizing the importance of consistent pain \\nmanagement for improved daily functioning.  \\n7. Emergi ng Research and Future Developments:\", metadata={'source': '../../../data/call_notes/MSL_Notes_25.pdf', 'page': 0}),\n",
       " Document(page_content=\"• Highlighted ongoing research on NeuroSolvix's potential in other pain conditions, such \\nas chronic migraine.  \\n• Discussed plans for exploring combination therapies to address comorbidities often \\npresent in patients with neu ropathic pain.  \\n8. Competitive Landscape:  \\n• Compared NeuroSolvix to existing neuropathic pain medications, emphasizing its unique \\nmechanism and potential for comprehensive pain relief.  \\n• Discussed the need for personalized treatment plans considering the heterogen eity of \\nneuropathic pain etiologies.  \\n9. Access and Reimbursement:  \\n• Provided updates on access and reimbursement programs for pain management clinics.  \\n• Discussed potential affordability concerns and patient assistance programs.  \\n10. Action Items and Follow -Up: \\n• Dr. Ma rtinez expressed interest in incorporating NeuroSolvix into ongoing clinical trials \\nfocused on neuropathic pain.  \\n• Agreed upon a follow -up in three months to provide additional data and address any \\nongoing concerns.  \\n11. Closing Remarks:  \\n• Expressed gratitude for Dr. Martinez's commitment to advancing pain management.  \\n• Reiterated commitment to ongoing collaboration and support for the PainRelief Clinic.\", metadata={'source': '../../../data/call_notes/MSL_Notes_25.pdf', 'page': 1}),\n",
       " Document(page_content=\"Subject:  Medical Science Liaison (MSL) Notes - In-Depth Discussion on Aeth erisol  \\nDate:  June 20, 2023  \\nProvider:  Dr. Michael Chang  \\nTitle:  Dermatologist  \\nInstitution:  Coastal Dermatology Clinic  \\nSummary of Key Discussion Points:  \\n1. Introduction:  \\n• Introduced Aetherisol as a breakthrough treatment for refractory psoriasis.  \\n• Discussed its unique mechanism targeting interleukin -17 pathways in the skin.  \\n2. Provider's Current Patient Cases:  \\n• Explored Dr. Chang's experiences with Aetherisol in managing severe psoriasis cases.  \\n• Discussed rapid improvement in skin clearance observed in p atients resistant to \\ntraditional therapies.  \\n3. Efficacy and Clinical Data:  \\n• Presented data showing a 70% reduction in Psoriasis Area and Severity Index (PASI) \\nscores within 12 weeks.  \\n• Highlighted Aetherisol's efficacy in achieving long -term remission.  \\n4. Safety Pr ofile:  \\n• Discussed the favorable safety profile of Aetherisol, with no reported serious skin -\\nrelated adverse events.  \\n• Addressed concerns related to infection risk and monitoring protocols.  \\n5. Mechanism of Action:  \\n• Explained Aetherisol's unique mechanism, emphasizing its precision in targeting skin \\ninflammation.  \\n• Quantified improvements in epidermal thickness and reduced inflammatory infiltrates in \\nskin biopsies.  \\n6. Patient Adherence and Education:  \\n• Explored strategies fo r enhancing patient adherence in long -term psoriasis \\nmanagement.  \\n• Shared patient success stories related to adherence and lifestyle adjustments.  \\n7. Emerging Research and Future Developments:  \\n• Highlighted ongoing research on Aetherisol's potential in atopic derm atitis.\", metadata={'source': '../../../data/call_notes/MSL_Notes_4.pdf', 'page': 0}),\n",
       " Document(page_content=\"• Discussed plans for real -world evidence studies focusing on quality of life \\nimprovements.  \\n8. Competitive Landscape:  \\n• Compared Aetherisol to other biologics in dermatology.  \\n• Discussed Aetherisol's unique advantage in providing rapid relief and sustained efficacy.  \\n9. Access and Reimbursement:  \\n• Provided updates on access and reimbursement programs for dermatology clinics.  \\n• Shared information on patient assistance programs, ensuring a ffordability.  \\n10. Action Items and Follow -Up: \\n• Dr. Chang expressed interest in hosting a webinar for local dermatologists on Aetherisol.  \\n• Agreed upon a follow -up in four weeks to coordinate the webinar logistics.  \\n11. Closing Remarks:  \\n• Expressed gratitude for Dr. Chan g's commitment to advancing dermatological care.  \\n• Reiterated commitment to supporting Coastal Dermatology Clinic in offering cutting -\\nedge treatments.\", metadata={'source': '../../../data/call_notes/MSL_Notes_4.pdf', 'page': 1}),\n",
       " Document(page_content=\"Subject:  Medical Science Liaison (MSL) Notes - Introduction of Vitaligen  \\nDate:  January 15, 2024  \\nProvider:  Dr. Kimberly Adams  \\nTitle:  Endocrinologist  \\nInstitution:  Metabolic Wellness Center  \\nSummary of Key Discussion Points:  \\n1. Introduction:  \\n• Introduced Vitaligen as an innovative therapy for type 2 diabetes with a focus on \\nmetabolic health.  \\n• Emphasized its unique mecha nism of promoting pancreatic beta -cell regeneration.  \\n2. Provider's Current Patient Cases:  \\n• Dr. Adams expressed interest in exploring new options for managing patients with \\nchallenging metabolic conditions.  \\n• Discussed specific cases where current therapies have shown limited efficacy.  \\n3. Efficacy and Clinical Data:  \\n• Presented recent clinical data showcasing Vitaligen's ability to reduce HbA1c levels by \\n1.5% on average.  \\n• Highlighted statistically significant improvements in postprandial glucose control.  \\n4. Safety Profile:  \\n• Discussed the favorable safety profile of Vitaligen, with minimal reported hypoglycemic \\nevents.  \\n• Dr. Adams inquired about potential long -term safety concerns and patient tolerability.  \\n5. Mechanism of Action:  \\n• Explained Vitaligen's mechanism, focusing on its role in stimulating pancreatic beta -cell \\nproliferation.  \\n• Dr. Adams appreciated the unique approach but sought clarification on the \\nsustainability of beta -cell regeneration.  \\n6. Patient Adherence and Education:  \\n• Discussed strategies for enhancing patient adherence through simplified dosing \\nregimens.  \\n• Shared patient education materials emphasizing the importance of metabolic health \\nbeyond glucose control.  \\n7. Emerging Research and Future Developments:\", metadata={'source': '../../../data/call_notes/MSL_Notes_11.pdf', 'page': 0}),\n",
       " Document(page_content=\"• Highlighted ongoing research on Vitaligen's potential in addressing insulin resistance in \\nprediabetic individuals.  \\n• Discussed plans for exploring combination therapies to optimize metabolic outcomes.  \\n8. Competitive Landscape:  \\n• Compared Vitaligen to current oral antidiabetic agents , emphasizing its potential as a \\ndisease -modifying therapy.  \\n• Discussed the need for head -to-head trials to establish its comparative effectiveness.  \\n9. Access and Reimbursement:  \\n• Provided updates on access and reimbursement programs for endocrinology clinics.  \\n• Discussed potential affordability concerns and patient assistance programs.  \\n10. Action Items and Follow -Up: \\n• Dr. Adams expressed interest in receiving updates on real -world evidenc e studies for \\nVitaligen.  \\n• Agreed upon a follow -up in three months to provide additional data and address any \\nongoing concerns.  \\n11. Closing Remarks:  \\n• Expressed gratitude for Dr. Adams's engagement and interest in advancing metabolic \\nhealth.  \\n• Reiterated commitment to ongoing collaboration and support for the Metabolic \\nWellness Center.\", metadata={'source': '../../../data/call_notes/MSL_Notes_11.pdf', 'page': 1}),\n",
       " Document(page_content=\"Subject:  Medical Science Liaison (MSL) Notes - Critical Discussion on Revitalizix  \\nDate:  November 18, 2023  \\nProvider:  Dr. Jonathan Reynolds  \\nTitle:  Cardiologist  \\nInstitution:  Advanced Cardiovascular Associates  \\nSummary of Key Discussion Points:  \\n1. Introduction:  \\n• Introduced Revitalizix as a potential therapy for heart failure with preserved ejection \\nfraction.  \\n• Dr. Reynol ds expressed skepticism about the need for another heart failure drug given \\nthe existing therapeutic options.  \\n2. Provider's Current Patient Cases:  \\n• Dr. Reynolds shared concerns about limited improvements observed in his patients \\nreceiving Revitalizix.  \\n• Discusse d cases where patients experienced no discernible change in symptoms or \\nfunctional capacity.  \\n3. Efficacy and Clinical Data:  \\n• Presented recent clinical data showcasing Revitalizix's modest improvements in left \\nventricular diastolic function.  \\n• Dr. Reynolds questi oned the clinical significance of the reported improvements and the \\npractical impact on patient outcomes.  \\n4. Safety Profile:  \\n• Discussed the reported safety profile of Revitalizix, but Dr. Reynolds expressed \\nreservations about potential underreporting of advers e events.  \\n• Raised concerns about the long -term safety of the drug given the limited duration of \\ncurrent studies.  \\n5. Mechanism of Action:  \\n• Explained Revitalizix's mechanism targeting myocardial stiffness and inflammation.  \\n• Dr. Reynolds questioned the drug's specificity, suggesting potential off -target effects \\nand their implications.  \\n6. Patient Adherence and Education:  \\n• Dr. Reynolds expressed frust ration with patient adherence issues, attributing it to \\nperceived lack of significant benefits.  \\n• Discussed patient feedback indicating a preference for other heart failure therapies.  \\n7. Emerging Research and Future Developments:\", metadata={'source': '../../../data/call_notes/MSL_Notes_9.pdf', 'page': 0}),\n",
       " Document(page_content=\"• Highlighted ongoing research on  Revitalizix's potential applications in other \\ncardiovascular conditions.  \\n• Dr. Reynolds questioned the rationale behind expanding research without addressing \\nexisting concerns.  \\n8. Competitive Landscape:  \\n• Compared Revitalizix to existing heart failure therapies,  with Dr. Reynolds expressing a \\npreference for more established options.  \\n• Discussed challenges of introducing a new drug without clear advantages over existing \\ntreatments.  \\n9. Access and Reimbursement:  \\n• Dr. Reynolds expressed skepticism about the cost -effectiven ess of Revitalizix, especially \\ngiven existing therapeutic alternatives.  \\n• Shared concerns about potential financial burdens on patients and healthcare systems.  \\n10. Action Items and Follow -Up: \\n• Dr. Reynolds did not express interest in further collaboration or foll ow-up. \\n• Agreed to remain open to future data and evidence but expressed skepticism about the \\ndrug's practical impact.  \\n11. Closing Remarks:  \\n• Acknowledged Dr. Reynolds' concerns and thanked him for his candid feedback.  \\n• Expressed understanding and committed to addressing ongoing questions or concerns \\nas the drug's development progresses.\", metadata={'source': '../../../data/call_notes/MSL_Notes_9.pdf', 'page': 1}),\n",
       " Document(page_content=\"Subject:  Medical Science Liaison (MSL) Notes - Skepticism and Concerns on NeuroSolvix  \\nDate: April 30, 202 3 \\nProvider:  Dr. Cynthia Rodriguez  \\nTitle:  Pain Management Specialist  \\nInstitution:  NerveEase Pain Clinic  \\nSummary of Key Discussion Points:  \\n1. Introduction:  \\n• Introduced NeuroSolvix as a potential therapy for neuropathic pain management.  \\n• Dr. Rodriguez expressed skepticism, questioning the need for another medication in an \\nalready crowded pain management landscape.  \\n2. Provider's Current Patient Cases:  \\n• Dr. Rodriguez shared concerns about introducing new medications without clear \\nsuperiority ove r existing neuropathic pain treatments.  \\n• Discussed specific cases where current therapies have shown established efficacy in pain \\nrelief.  \\n3. Efficacy and Clinical Data:  \\n• Presented recent clinical data showcasing NeuroSolvix's reduction in neuropathic pain \\nscore s and improved quality of life.  \\n• Dr. Rodriguez questioned the clinical relevance of the reported improvements and \\nsought comparative data against established treatments.  \\n4. Safety Profile:  \\n• Discussed the favorable safety profile of NeuroSolvix, with minimal rep orted adverse \\neffects.  \\n• Dr. Rodriguez expressed concerns about the lack of long -term safety data and potential \\nunforeseen side effects.  \\n5. Mechanism of Action:  \\n• Explained NeuroSolvix's mechanism, focusing on its role in modulating neural \\nhyperactivity and centr al pain pathways.  \\n• Dr. Rodriguez questioned the uniqueness of the mechanism and how it addresses \\nspecific pain etiologies not covered by existing treatments.  \\n6. Patient Adherence and Education:  \\n• Discussed strategies for enhancing patient adherence through a twi ce-monthly \\nsubcutaneous injection.  \\n• Dr. Rodriguez expressed skepticism about patient compliance, citing concerns about the \\ninconvenience of frequent injections.\", metadata={'source': '../../../data/call_notes/MSL_Notes_26.pdf', 'page': 0}),\n",
       " Document(page_content=\"7. Emerging Research and Future Developments:  \\n• Highlighted ongoing research on NeuroSolvix's potenti al in other pain conditions.  \\n• Dr. Rodriguez questioned the need for expanding research without addressing existing \\nconcerns about the drug's efficacy.  \\n8. Competitive Landscape:  \\n• Compared NeuroSolvix to existing neuropathic pain medications, expressing doubts \\nabout its potential superiority.  \\n• Discussed challenges of introducing a new drug without clear advantages over \\nestablished treatments.  \\n9. Access and Reimbursement:  \\n• Provided update s on access and reimbursement programs for pain management clinics.  \\n• Dr. Rodriguez expressed reservations about the cost -effectiveness of NeuroSolvix \\ncompared to existing treatments.  \\n10. Action Items and Follow -Up: \\n• Dr. Rodriguez declined any further collaborati on or follow -up. \\n• Expressed a preference for waiting until more substantial data on NeuroSolvix's efficacy \\nbecomes available.  \\n11. Closing Remarks:  \\n• Acknowledged Dr. Rodriguez's concerns and thanked her for her candid feedback.  \\n• Expressed understanding and commitm ent to addressing ongoing questions or concerns \\nif additional data becomes available.\", metadata={'source': '../../../data/call_notes/MSL_Notes_26.pdf', 'page': 1}),\n",
       " Document(page_content=\"Subject:  Medical Science Liaison (MSL) Notes - Introduction of NeuroRelieve  \\nDate:  October 15, 2024  \\nProvider:  Dr. Amanda Rodriguez  \\nTitle:  Neurologist  \\nInstitution:  NeuroWell Neurological Institute  \\nSummary of Key Discussion Points:  \\n1. Introduction:  \\n• Introduced NeuroRelieve as a groundbreaking therapy for the management of chronic \\nmigraine.  \\n• Emphasized its unique mechanism targeting trigeminal nerve pathways involved in \\nmigraine pathophysiology.  \\n2. Provider's Current Patient Cases:  \\n• Dr. Rodriguez expressed keen interest in innovative approaches for patients with \\nrefractory chronic migraines.  \\n• Discu ssed specific cases where current migraine treatments have shown limited efficacy \\nor intolerable side effects.  \\n3. Efficacy and Clinical Data:  \\n• Presented recent clinical data showcasing NeuroRelieve's ability to reduce migraine \\nfrequency by 50% and severity by 30%.  \\n• Highlighted statistically significant improvements in quality of life measures and \\ndecreased reliance on rescue medications.  \\n4. Safety Profile:  \\n• Discussed the favorable safety profile of NeuroRelieve, with minimal reported central \\nnervous system side effe cts. \\n• Dr. Rodriguez inquired about potential interactions with commonly prescribed \\nneurological medications.  \\n5. Mechanism of Action:  \\n• Explained NeuroRelieve's mechanism, focusing on its targeted modulation of trigeminal \\nnerve hyperactivity.  \\n• Dr. Rodriguez apprec iated the drug's novel approach and sought insights into its \\npotential for long -term migraine prevention.  \\n6. Patient Adherence and Education:  \\n• Discussed strategies for enhancing patient adherence through a once -monthly \\nsubcutaneous injection.\", metadata={'source': '../../../data/call_notes/MSL_Notes_19.pdf', 'page': 0}),\n",
       " Document(page_content=\"• Shared patient ed ucation materials emphasizing the importance of consistent therapy \\nfor sustained migraine relief.  \\n7. Emerging Research and Future Developments:  \\n• Highlighted ongoing research on NeuroRelieve's potential in other headache disorders, \\nsuch as cluster headaches.  \\n• Discussed plans for exploring combination therapies to address multifactorial migraine \\ntriggers.  \\n8. Competitive Landscape:  \\n• Compared NeuroRelieve to existing migraine therapies, emphasizing its targeted \\nmechanism and potential for comprehensive migraine control.  \\n• Discussed the need for individualized treatment plans considering the diverse nature of \\nchronic migraine.  \\n9. Access and Reimbursement:  \\n• Provided updates on access and reimbursement programs for neurological clinics.  \\n• Discussed potential affordability concerns and patient assistance programs.  \\n10. Action Items and Follow -Up: \\n• Dr. Rodriguez expressed interest in participating in ongoing clinical trials related to \\nNeuroRelieve in migraine management.  \\n• Agreed upon a follow -up in three months to provide additional data and address any \\nongoing concerns.  \\n11. Closing Remarks:  \\n• Expressed gra titude for Dr. Rodriguez's dedication to advancing migraine care.  \\n• Reiterated commitment to ongoing collaboration and support for the NeuroWell \\nNeurological Institute.\", metadata={'source': '../../../data/call_notes/MSL_Notes_19.pdf', 'page': 1}),\n",
       " Document(page_content=\"Subject:  Medical Science Liaison (MSL) Notes - Introduction of Tranquilify i n Anxiety Disorders  \\nDate:  July 15, 2024  \\nProvider:  Dr. Sophia Nguyen  \\nTitle:  Psychiatrist  \\nInstitution:  MindCare Mental Health Clinic  \\nSummary of Key Discussion Points:  \\n1. Introduction:  \\n• Introduced Tranquilify as a potential therapy for anxiety disorders, emphasiz ing its \\nunique mechanism targeting specific neurotransmitter pathways.  \\n• Highlighted the drug's potential in managing both generalized anxiety disorder (GAD) \\nand social anxiety disorder (SAD).  \\n2. Provider's Current Patient Cases:  \\n• Dr. Nguyen expressed interest in new pharmacological options for patients with \\ntreatment -resistant anx iety.  \\n• Discussed specific cases where traditional anxiolytics have shown limited efficacy or \\nundesirable side effects.  \\n3. Efficacy and Clinical Data:  \\n• Presented recent clinical data showcasing Tranquilify's ability to reduce anxiety \\nsymptoms by 40% on average.  \\n• Highlighted statistically significant improvements in both subjective and objective \\nmeasures of anxiety.  \\n4. Safety Profile:  \\n• Discussed the favorable safety profile of Tranquilify, with minimal sedative effects and a \\nlow risk of withdrawal symptoms.  \\n• Dr. Nguyen inquired about potential interactions with commonly prescribed psychiatric \\nmedications.  \\n5. Mechanism of Action:  \\n• Explained Tranquilify's mechanism, focusing on its modulation of GABAergic pathways.  \\n• Dr. Nguyen appreciated the drug's unique approach and sought i nsights into its \\npotential for long -term anxiety management.  \\n6. Patient Adherence and Education:  \\n• Discussed strategies for enhancing patient adherence through a once -daily dosing \\nregimen and convenient administration.  \\n• Shared patient education materials emphasi zing the importance of sustained anxiety \\ncontrol for improved quality of life.\", metadata={'source': '../../../data/call_notes/MSL_Notes_16.pdf', 'page': 0}),\n",
       " Document(page_content=\"7. Emerging Research and Future Developments:  \\n• Highlighted ongoing research on Tranquilify's potential in other anxiety spectrum \\ndisorders, such as panic disorder.  \\n• Discussed plans f or exploring combination therapies to address comorbid conditions \\noften present in patients with anxiety disorders.  \\n8. Competitive Landscape:  \\n• Compared Tranquilify to existing anxiolytics, emphasizing its potential for broad -\\nspectrum anxiety management.  \\n• Discussed the need for individualized treatment plans considering the heterogeneous \\nnature of anxiety disorders.  \\n9. Access and Reimbursement:  \\n• Provid ed updates on access and reimbursement programs for psychiatric clinics.  \\n• Discussed potential affordability concerns and patient assistance programs.  \\n10. Action Items and Follow -Up: \\n• Dr. Nguyen expressed interest in participating in ongoing clinical trials relat ed to \\nTranquilify in anxiety disorders.  \\n• Agreed upon a follow -up in three months to provide additional data and address any \\nongoing concerns.  \\n11. Closing Remarks:  \\n• Expressed gratitude for Dr. Nguyen's dedication to advancing mental health care.  \\n• Reiterated commit ment to ongoing collaboration and support for the MindCare Mental \\nHealth Clinic.\", metadata={'source': '../../../data/call_notes/MSL_Notes_16.pdf', 'page': 1}),\n",
       " Document(page_content=\"Subject:  Medical Science Liaison (MSL) Notes - Mixed Reactions on CardioRelief Discussion  \\nDate:  January 15, 2023 \\nProvider:  Dr. Kevin Chen  \\nTitle:  Cardiologist  \\nInstitution:  CardioCare Specialists  \\nSummary of Key Discussion Points:  \\n1. Introduction:  \\n• Introduced CardioRelief as an innovative therapy for managing hypertension and \\nreducing cardiovascular risk.  \\n• Dr. Chen expressed cautious interest, noting the need for additional options in \\nhypertension management.  \\n2. Provider's Current Patient Cases:  \\n• Dr. Chen  shared enthusiasm for novel treatments, particularly in patients struggling with \\nadherence to traditional antihypertensive medications.  \\n• Discussed specific cases where current medications have shown limitations or \\nintolerances.  \\n3. Efficacy and Clinical Data:  \\n• Presented recent clinical data showcasing CardioRelief's ability to effectively lower \\nblood pressure and improve vascular function.  \\n• Dr. Chen acknowledged the promising efficacy data but questioned the sustainability of \\nthe observed effects over extended pe riods.  \\n4. Safety Profile:  \\n• Discussed the favorable safety profile of CardioRelief, with minimal reported adverse \\neffects.  \\n• Dr. Chen raised concerns about potential interactions with commonly prescribed \\ncardiovascular medications and the need for long -term safet y data.  \\n5. Mechanism of Action:  \\n• Provided a detailed explanation of CardioRelief's mechanism, focusing on its dual -action \\napproach in modulating blood pressure and supporting arterial health.  \\n• Dr. Chen appreciated the unique mechanism but expressed reservations about potential \\nside effects  related to the vascular modulations.  \\n6. Patient Adherence and Education:  \\n• Discussed strategies for enhancing patient adherence through a once -daily oral tablet.  \\n• Dr. Chen praised the simplicity of the dosing regimen but questioned potential \\nchallenges in monit oring patients for adherence and potential side effects.\", metadata={'source': '../../../data/call_notes/MSL_Notes_32.pdf', 'page': 0}),\n",
       " Document(page_content=\"7. Emerging Research and Future Developments:  \\n• Highlighted ongoing research on CardioRelief's potential in preventing cardiovascular \\nevents and addressing specific risk factors.  \\n• Dr. Chen expressed intere st in participating in future research but emphasized the need \\nfor independent validation of findings.  \\n8. Competitive Landscape:  \\n• Compared CardioRelief to existing antihypertensive medications, acknowledging its \\nunique dual -action mechanism.  \\n• Discussed the chal lenges of introducing new medications into established treatment \\nplans and the importance of real -world evidence.  \\n9. Access and Reimbursement:  \\n• Provided updates on access and reimbursement programs for cardiology clinics.  \\n• Dr. Chen expressed concerns about pote ntial cost barriers for patients and sought \\nclarification on reimbursement processes.  \\n10. Action Items and Follow -Up: \\n• Dr. Chen expressed a willingness to trial CardioRelief in select patients and requested \\nregular updates on emerging real -world data.  \\n• Agreed up on a follow -up in three months to assess initial patient responses and discuss \\nany emerging concerns.  \\n11. Closing Remarks:  \\n• Expressed gratitude for Dr. Chen's thoughtful consideration and engagement in the \\ndiscussion.  \\n• Reiterated commitment to ongoing collaboration and support for CardioCare Specialists.\", metadata={'source': '../../../data/call_notes/MSL_Notes_32.pdf', 'page': 1}),\n",
       " Document(page_content=\"Subject:  Medical Science Liaison (MSL) Notes - Introduction of GlucoFlex  \\nDate: March 20, 202 3 \\nProvider:  Dr. Michael Thompson  \\nTitle:  Endocrinologist  \\nInstitution:  Metabolic Wellness Clinic  \\nSummary of Key Discussion Points:  \\n1. Introduction:  \\n• Introduced GlucoFlex as an innovative therapy for comprehensive diabetes \\nmanagement.  \\n• Emphasized its unique dual -action approach targeting insulin sensitivity and glucose \\nregulation.  \\n2. Provider's Current Patient Cases:  \\n• Dr. Thompson expressed interest in advanced treatments for diabetes, especially those \\naddressing insulin resistance.  \\n• Discusse d specific cases where current treatments have shown limitations in achieving \\noptimal glycemic control.  \\n3. Efficacy and Clinical Data:  \\n• Presented recent clinical data showcasing GlucoFlex's ability to improve HbA1c levels \\nand reduce postprandial glucose fluctuations.  \\n• Highlighted statistically significant improvements in both fasting and post -meal glucose \\nlevels.  \\n4. Safety Profile:  \\n• Discussed t he favorable safety profile of GlucoFlex, with minimal reported adverse \\neffects in late -phase trials.  \\n• Dr. Thompson inquired about potential interactions with commonly prescribed diabetes \\nmedications and the long -term safety considerations.  \\n5. Mechanism of Act ion: \\n• Provided a detailed explanation of GlucoFlex's mechanism, focusing on its dual -action \\napproach in enhancing insulin sensitivity and modulating glucose absorption.  \\n• Dr. Thompson appreciated the innovative mechanism and sought insights into potential \\nbenefits for patients with insulin resistance.  \\n6. Patient Adherence and Education:  \\n• Discussed strategies for enhancing patient adherence through a once -daily oral tablet.  \\n• Shared patient education materials emphasizing the importance of lifestyle \\nmodifications, re gular monitoring, and medication adherence.\", metadata={'source': '../../../data/call_notes/MSL_Notes_33.pdf', 'page': 0}),\n",
       " Document(page_content=\"7. Emerging Research and Future Developments:  \\n• Highlighted ongoing research on GlucoFlex's potential in addressing specific diabetes \\nsubtypes and complications.  \\n• Discussed plans for exploring combination therapies to tailor treatment plans for \\npatients with diverse needs.  \\n8. Competitive Landscape:  \\n• Compared GlucoFlex to existing antidiabetic medications, emphasizing its unique dual -\\naction mechanism and potential for personalized diabetes care.  \\n• Discussed the importance of individualized treatment plans based on patient \\ncharacteristics and preferences.  \\n9. Access and Reimbursement:  \\n• Provided updates on access and reimbursement programs for endocrinology clinics.  \\n• Dr. Thompson expressed concerns about potential affordability barriers for patients and \\nthe need for patient assistance programs.  \\n10. Action Items and F ollow -Up: \\n• Dr. Thompson expressed interest in incorporating GlucoFlex into his practice for \\npatients with insulin resistance and uncontrolled glucose levels.  \\n• Agreed upon a follow -up in three months to assess patient response and discuss any \\nemerging concern s. \\n11. Closing Remarks:  \\n• Expressed gratitude for Dr. Thompson's commitment to advancing diabetes care.  \\n• Reiterated commitment to ongoing collaboration and support for the Metabolic \\nWellness Clinic.\", metadata={'source': '../../../data/call_notes/MSL_Notes_33.pdf', 'page': 1}),\n",
       " Document(page_content=\"Subject:  Medical Science Liaiso n (MSL) Notes - Mixed Discussion on Revitalizix  \\nDate:  December 7, 2023  \\nProvider:  Dr. Amanda Martinez  \\nTitle:  Cardiologist  \\nInstitution:  Metropolitan Heart Center  \\nSummary of Key Discussion Points:  \\n1. Introduction:  \\n• Introduced Revitalizix as a potential therapy for heart failure with preserved ejection \\nfraction.  \\n• Dr. Martinez expressed cautious optimism, acknowledging the need for additional \\ntreatment options in heart failure.  \\n2. Provider's Current Patient Cases:  \\n• Shared p ositive experiences with Revitalizix in some patients, noting improvements in \\nexercise tolerance.  \\n• Discussed challenges in achieving consistent responses, citing cases with minimal \\nobservable benefits.  \\n3. Efficacy and Clinical Data:  \\n• Presented recent clinical data showcasing Revitalizix's improvements in left ventricular \\ndiastolic function.  \\n• Dr. Martinez acknowledged the statistically significant improvement but questioned the \\npractical impact on patients' daily lives.  \\n4. Safety Profile:  \\n• Discussed the favorable safety profile of Revitalizix based on reported adverse events.  \\n• Dr. Martinez raised concerns about potential long -term safety, particularly in elderly \\npatients with multiple comorbidities.  \\n5. Mechanism of Action:  \\n• Explained Revitalizix's  mechanism targeting myocardial stiffness and inflammation.  \\n• Dr. Martinez appreciated the drug's novel approach but expressed a desire for more \\ndetailed mechanistic data.  \\n6. Patient Adherence and Education:  \\n• Dr. Martinez recognized the importance of patient edu cation in optimizing adherence to \\nRevitalizix.  \\n• Discussed challenges in motivating patients when perceived benefits vary.  \\n7. Emerging Research and Future Developments:\", metadata={'source': '../../../data/call_notes/MSL_Notes_10.pdf', 'page': 0}),\n",
       " Document(page_content=\"• Highlighted ongoing research on Revitalizix's potential applications in heart failure \\nsubtyp es. \\n• Dr. Martinez expressed interest in participating in clinical trials focused on specific \\npatient populations.  \\n8. Competitive Landscape:  \\n• Compared Revitalizix to existing heart failure therapies, acknowledging its potential \\nniche.  \\n• Discussed the need for head -to-head trials to better understand the drug's comparative \\neffectiveness.  \\n9. Access and Reimbursement:  \\n• Dr. Martinez acknowledged the importance of access and affordability for patient \\npopulations.  \\n• Raised concerns about potential disparities in access based on healthcare settings.  \\n10. Action Items and Follow -Up: \\n• Dr. Martinez expressed interest in receiving updat es on real -world evidence studies for \\nRevitalizix.  \\n• Agreed upon a follow -up in two months to provide additional data and address any \\nongoing concerns.  \\n11. Closing Remarks:  \\n• Expressed gratitude for Dr. Martinez's thoughtful insights and willingness to engage in \\nongoing discussions.  \\n• Reiterated commitment to transparency and collaboration in advancing cardiovascular \\ncare with Revitalizix.\", metadata={'source': '../../../data/call_notes/MSL_Notes_10.pdf', 'page': 1}),\n",
       " Document(page_content=\"Subject:  Medical Science Liaison (MSL) Notes - Mixed Reactions on PulmoVive  \\nDate:  September 5, 2024  \\nProvider:  Dr. Melissa Turner  \\nTitle:  Pulmonologist  \\nInstitution:  BreatheWell Pulmonary Care Center  \\nSummary of Key Discussion Points:  \\n1. Introduction:  \\n• Introduced PulmoVive as an innovative therapy for COPD management.  \\n• Dr. Turner expressed cautious optimism, acknowledging the need for advancements in \\nCOPD treatment.  \\n2. Provider 's Current Patient Cases:  \\n• Dr. Turner shared interest in exploring new treatments for patients facing \\nexacerbations.  \\n• Discussed skepticism about the reported efficacy, citing previous disappointments with \\nnew COPD therapies.  \\n3. Efficacy and Clinical Data:  \\n• Prese nted clinical data showing improvements in lung function and reduced \\nexacerbation rates with PulmoVive.  \\n• Dr. Turner acknowledged the promising results but raised concerns about the long -term \\nsustainability of benefits.  \\n4. Safety Profile:  \\n• Discussed the favorabl e safety profile of PulmoVive, with minimal respiratory adverse \\nevents.  \\n• Dr. Turner appreciated the emphasis on safety but expressed reservations about \\npotential unknowns.  \\n5. Mechanism of Action:  \\n• Explained PulmoVive's dual mechanism targeting bronchoconstriction and \\ninflammation.  \\n• Dr. Turner found the dual action intriguing but questioned the necessity for both \\nmechanisms in every patient.  \\n6. Patient Adherence and Education:  \\n• Discussed strategies for en hancing patient adherence through convenient \\nadministration.  \\n• Dr. Turner acknowledged the importance of adherence but expressed concerns about \\npatient compliance with new medications.\", metadata={'source': '../../../data/call_notes/MSL_Notes_18.pdf', 'page': 0}),\n",
       " Document(page_content=\"7. Emerging Research and Future Developments:  \\n• Highlighted ongoing research o n PulmoVive's potential in addressing COPD -related \\ncomorbidities.  \\n• Dr. Turner expressed interest in further research but emphasized the need for practical, \\nreal-world benefits.  \\n8. Competitive Landscape:  \\n• Compared PulmoVive to existing COPD therapies, noting the  potential for \\ncomprehensive disease management.  \\n• Dr. Turner questioned whether the added benefits justify potential complexities in \\ntreatment plans.  \\n9. Access and Reimbursement:  \\n• Provided updates on access and reimbursement programs for pulmonary clinics.  \\n• Dr. Turner appreciated the consideration of access but expressed concerns about \\npotential financial burdens on patients.  \\n10. Action Items and Follow -Up: \\n• Dr. Turner expressed interest in closely monitoring ongoing studies and real -world \\nevidence.  \\n• Agreed upon a foll ow-up in three months to discuss emerging data and address any \\nongoing concerns.  \\n11. Closing Remarks:  \\n• Expressed appreciation for Dr. Turner's thoughtful insights and engagement.  \\n• Reiterated commitment to ongoing collaboration and support for the BreatheWell \\nPulmonary Care Center.\", metadata={'source': '../../../data/call_notes/MSL_Notes_18.pdf', 'page': 1}),\n",
       " Document(page_content=\"Subject:  Medical Science Liaison (MSL) Notes - Introduction of NeuroSolvix  \\nDate:  February 20, 2025  \\nProvider:  Dr. Emily Harper  \\nTitle:  Neurologist  \\nInstitution:  BrainHealth Neurological Center  \\nSummary of Key Discussion Points:  \\n1. Introduction:  \\n• Introduced NeuroSolvix as a potential breakthrough therapy for the management of \\nneurodegenerative diseases.  \\n• Emphasized its uni que mechanism targeting synaptic plasticity and neuroinflammation.  \\n2. Provider's Current Patient Cases:  \\n• Dr. Harper expressed interest in innovative approaches for patients with progressive \\nneurodegenerative conditions.  \\n• Discussed specific cases where current n europrotective therapies have shown limited \\nefficacy or lack of disease -modifying effects.  \\n3. Efficacy and Clinical Data:  \\n• Presented recent clinical data showcasing NeuroSolvix's ability to slow disease \\nprogression by 30% and improve cognitive function in Alzheimer's patients.  \\n• Highlighted statistically significant improvements in biomarkers associated with synaptic \\nhealth.  \\n4. Safety Profile:  \\n• Discussed the favorable safety profile of NeuroSolvix, with minimal reported adverse \\neffects.  \\n• Dr. Harper inquired about potential interactions with commonly prescribed neurological \\nmedications.  \\n5. Mechanism of Action:  \\n• Explained NeuroSolvix's mech anism, focusing on its role in enhancing synaptic resilience \\nand reducing neuroinflammation.  \\n• Dr. Harper appreciated the drug's novel approach and sought insights into its potential \\nfor long -term neuroprotection.  \\n6. Patient Adherence and Education:  \\n• Discussed s trategies for enhancing patient adherence through a once -monthly \\nintravenous infusion.  \\n• Shared patient education materials emphasizing the importance of early intervention \\nfor sustained neuroprotection.\", metadata={'source': '../../../data/call_notes/MSL_Notes_24.pdf', 'page': 0}),\n",
       " Document(page_content=\"7. Emerging Research and Future Developments:  \\n• Highlighted  ongoing research on NeuroSolvix's potential in other neurodegenerative \\nconditions, such as Parkinson's disease.  \\n• Discussed plans for exploring combination therapies to address multifactorial aspects of \\nneurodegeneration.  \\n8. Competitive Landscape:  \\n• Compared Neu roSolvix to existing neuroprotective therapies, emphasizing its unique \\nmechanism and potential for comprehensive neuroprotection.  \\n• Discussed the need for personalized treatment plans considering the diverse nature of \\nneurodegenerative diseases.  \\n9. Access and R eimbursement:  \\n• Provided updates on access and reimbursement programs for neurological clinics.  \\n• Discussed potential affordability concerns and patient assistance programs.  \\n10. Action Items and Follow -Up: \\n• Dr. Harper expressed interest in considering NeuroSolvix for ongoing clinical trials in her \\npatient population.  \\n• Agreed upon a follow -up in three months to provide additional data and address any \\nongoing concerns.  \\n11. Closing Remarks:  \\n• Expressed gratitude for Dr . Harper's dedication to advancing neurological care.  \\n• Reiterated commitment to ongoing collaboration and support for the BrainHealth \\nNeurological Center.\", metadata={'source': '../../../data/call_notes/MSL_Notes_24.pdf', 'page': 1})]"
      ]
     },
     "execution_count": 20,
     "metadata": {},
     "output_type": "execute_result"
    }
   ],
   "source": [
    "doc_chunks"
   ]
  },
  {
   "cell_type": "markdown",
   "id": "41bb3e87-11b3-46c1-af98-4eee95693fe9",
   "metadata": {},
   "source": [
    "Now we can initilize and populate our vector database with these chunks.  Behind the scenes, each text is embedded using the `embedding_function` above, which is the `sentence-transformers/all-MiniLM-L6-v2` neural network model, and then a sql command is run to store the embedding into `postgresql`.  See the Appendix below to look at the precise schema that is created and managed by LangChain."
   ]
  },
  {
   "cell_type": "markdown",
   "id": "9a50367d-8658-4b82-bc06-d097efbf79ce",
   "metadata": {},
   "source": [
    "If we want to add new document embeddings, we can do so as below:"
   ]
  },
  {
   "cell_type": "code",
   "execution_count": 22,
   "id": "35391d71-7d63-454e-b2db-7ce327cb025a",
   "metadata": {},
   "outputs": [
    {
     "name": "stdout",
     "output_type": "stream",
     "text": [
      "['59107508-71e6-4397-b653-58c09d9af425', '90b90a7b-63c5-40a2-910d-1c44b0a5b581', 'c56b9459-47d0-408b-a135-37ad4d14e7ec', 'ed5c3a6e-d27b-4323-a86d-4c840616a2a1', '233303b1-60c3-4d13-a5ef-d6ea54f9f4e8', 'c6c8ea6c-4239-44f4-a010-a6c0e25329e1', 'd32f2ca3-4d8b-41a2-99de-c9ae55a0c81e', '01ac2891-5168-4571-b08d-3a0edad09bee', '280a071a-70b9-4102-ae5d-208161fd802d', '4e84b0a5-f1f5-4bb7-a7a1-5c1f49734fcd', 'd5d5f601-7428-4a44-a48e-007bff1032c9', '1a563941-b45a-4d1f-a384-a89dcb78a819', '333c77ce-a0aa-46bc-84c7-90fd050b0192', '4dbb4577-d8ff-4499-be35-068f410a2ab9', '9d8b966e-0108-4e72-b45d-ead710adfe8e', '24d97a74-8ae4-43e5-90c8-5febe1737bb3', '5388e9e5-6975-467a-baed-ce10ba0d96e8', 'a3daaeaa-2911-4eb5-acdc-d5721acd03b3', 'cb81badd-319f-4ff2-8138-f3b8bf7524ea', '986ea98f-d273-4106-97d8-3d73333fe865', 'c6daa15a-e78c-4d5c-84cc-f11457e4af7c', '0d89cdf9-648d-41fb-85ba-7a83e5b7dcf3', 'f14c2336-21dc-4ad3-815b-7e0f3efba889', '6bde7ad2-f01b-4ed4-9848-3195b7a4c198', '34397665-cc3d-484b-920d-970662d3d53b', '978f7afe-1a79-4fe7-816e-fc3d7a5f102d', '9302c6a5-c002-4454-b5a4-2e4816390109', 'be31ae9b-2f62-4c8e-9560-792210324ac3', 'c9a7886e-d429-413d-9321-bbc1d537f3fd', 'd646f16c-b9f9-408b-84f8-298bd68d4cd0', '004d5ead-b1b8-404b-a3aa-61555459fb4f', '777993d2-8610-4ef9-a1ef-2939d56db130', '1680bcdf-b42b-46d6-b85e-e0d6f4fbc8c4', 'c01a0d00-9b7f-497c-aa40-4d800482cf1b', '26cecb24-f21f-4448-ac7c-669d59aea256', 'b2333b1c-ecbe-4150-8bc5-184dad3edd8a', 'eba56822-c89e-46ae-871b-ad9614d04af5', 'a9f04e96-00b7-493f-a783-3a2ec0653d4f', '2562c040-b54c-408f-913d-ff3a944f64a9', 'a8a125e6-7b27-421c-915a-d769a9e9ed6d', '8ebe586e-67c8-4f5c-bad2-1084dfd1bcf0', 'ea4fd770-8932-408c-b5a9-a8f6f257dd08', '8ac4286c-f6dd-4906-a9f1-19c55b507308', '574722b4-ec9e-4d0f-a1bb-43ada012942b', 'd10e1b2b-0564-4082-a738-299d42d9ba58', 'c879489a-c20d-4b62-8caa-79827628b3ec', '7846a258-359b-4925-9b90-2db8cdfd532d', '08ebc2f8-d58e-48fc-943f-c0f0b1f37fda', '4e0c61ee-d3d0-4c04-8952-dfc06c681867', '118ad2e1-db94-4dab-92ba-d6c8e16ff286', '1761c542-58d5-47a6-9631-9201defb5200', '7bf9b6d5-c98f-43a9-a89b-963f6bac5538', '970491db-4e26-494b-a075-4cb6fbef97c3', '5ca28504-b040-4a24-bc5a-dc0163a126f2', '61a82617-bf70-40ba-be6f-4dbb78883dda', 'b94d6021-fbd0-4761-9085-a7ea5202475d', '97a7007a-55a3-4fd6-a6aa-a75cc6e8c6ad', '9a29073b-6b24-4dbf-ab23-65da05dd2a38', '4676bbf2-6eaa-4b8a-a9d0-052ebc7d352c', '70855f60-8e81-4bdd-b13a-ed3489f45c7f', '1f0d4f1b-afbc-468a-a56b-9e69a7c4d810', '6b0639f5-3ba7-41d8-a5ec-171d369ade7a', '11592a3e-8757-4f9f-b59b-05cc83debf6b', '1f8ccb64-91e8-43e1-b1a5-75ba7e46379f', '31b906aa-96b2-41c0-9732-42a394fdbd10', '57e954af-7afe-4ac8-8241-473a15e58f76', 'd8c1fb14-47ca-49fb-bdc3-4168b64e89f3', '7750f564-a747-4ee4-8dc1-7c907a54c641', '7dc11d55-2ab6-4628-9af0-fdcde4bccc2f', '54295bf1-a61f-42c4-8d59-6ef9dafb0e75']\n"
     ]
    }
   ],
   "source": [
    "new_doc_ids = db.add_documents(doc_chunks)\n",
    "print(new_doc_ids)"
   ]
  },
  {
   "cell_type": "markdown",
   "id": "7be588ac-741a-4767-bedf-b4a7f2cba970",
   "metadata": {},
   "source": [
    "## Query the Embedding Database using LangChain and PGVector\n",
    "\n",
    "With the Vector DB built out and populated, we can now query it using LangChain and PGVector.  We replicate some code below to demonstrate that this process can exist without the above"
   ]
  },
  {
   "cell_type": "code",
   "execution_count": 23,
   "id": "1b4991bb-c0bc-44b9-9c74-d0d59cbc43e3",
   "metadata": {},
   "outputs": [],
   "source": [
    "from langchain.vectorstores.pgvector import PGVector\n",
    "\n",
    "from langchain.embeddings.sentence_transformer import SentenceTransformerEmbeddings"
   ]
  },
  {
   "cell_type": "code",
   "execution_count": 24,
   "id": "08190ba5-fb54-4e6c-8d78-711703b4cd02",
   "metadata": {},
   "outputs": [],
   "source": [
    "# The connection to the database\n",
    "CONNECTION_STRING = PGVector.connection_string_from_db_params(\n",
    "    driver= \"psycopg2\",\n",
    "    host = \"localhost\",\n",
    "    port = \"5432\",\n",
    "    database = \"postgres\",\n",
    "    user= \"username\",\n",
    "    password=\"password\"\n",
    ")\n",
    "\n",
    "# The embedding function that will be used to store into the database\n",
    "embedding_function = SentenceTransformerEmbeddings(\n",
    "    model_name=\"BAAI/bge-large-en-v1.5\",\n",
    "    model_kwargs = {'device': 'cuda'},\n",
    "    encode_kwargs = {'normalize_embeddings': True}\n",
    ")\n",
    "\n",
    "# Creates the database connection to our existing DB\n",
    "db = PGVector(\n",
    "    connection_string = CONNECTION_STRING,\n",
    "    collection_name = \"embeddings\",\n",
    "    embedding_function = embedding_function\n",
    ")"
   ]
  },
  {
   "cell_type": "code",
   "execution_count": 26,
   "id": "c9ff0c3f-5ac8-4a4e-b406-d7548568b0ab",
   "metadata": {},
   "outputs": [
    {
     "name": "stdout",
     "output_type": "stream",
     "text": [
      "[(Document(page_content=\"7. Emerging Research and Future Developments:  \\n• Highlighted ongoing research on Prolifixin's potential in refractory cases.  \\n• Dr. Hernandez questioned t he rationale behind continuing research without addressing \\nexisting concerns.  \\n8. Competitive Landscape:  \\n• Compared Prolifixin to established therapies for hematologic malignancies.  \\n• Discussed the challenges of introducing a new drug without clear advantages over \\nexisting options.  \\n9. Access and Reimbursement:  \\n• Dr. Hernandez expressed concerns about the cost -effectiveness of Prolifixin, especially \\ngiven existing therapeutic alternatives.  \\n• Shared reservations about potential financial burdens on patients and healthcare \\nsystems.  \\n10. Action Items and Follow -Up: \\n• Dr. Hernandez did not express interest in further collaboration or follow -up. \\n• Agreed to remain open to future data and evidence but expresse d skepticism about the \\ndrug's practical impact.  \\n11. Closing Remarks:  \\n• Acknowledged Dr. Hernandez's concerns and thanked him for his candid feedback.  \\n• Expressed understanding and committed to addressing ongoing questions or concerns \\nas the drug's development prog resses.\", metadata={'source': '../../../data/call_notes/MSL_Notes_7.pdf', 'page': 1}), 0.23779861701735017), (Document(page_content=\"7. Emerging Research and Future Developments:  \\n• Highlighted ongoing research on Prolifixin's potential in refractory cases.  \\n• Dr. Hernandez questioned t he rationale behind continuing research without addressing \\nexisting concerns.  \\n8. Competitive Landscape:  \\n• Compared Prolifixin to established therapies for hematologic malignancies.  \\n• Discussed the challenges of introducing a new drug without clear advantages over \\nexisting options.  \\n9. Access and Reimbursement:  \\n• Dr. Hernandez expressed concerns about the cost -effectiveness of Prolifixin, especially \\ngiven existing therapeutic alternatives.  \\n• Shared reservations about potential financial burdens on patients and healthcare \\nsystems.  \\n10. Action Items and Follow -Up: \\n• Dr. Hernandez did not express interest in further collaboration or follow -up. \\n• Agreed to remain open to future data and evidence but expresse d skepticism about the \\ndrug's practical impact.  \\n11. Closing Remarks:  \\n• Acknowledged Dr. Hernandez's concerns and thanked him for his candid feedback.  \\n• Expressed understanding and committed to addressing ongoing questions or concerns \\nas the drug's development prog resses.\", metadata={'source': '../../../data/call_notes/MSL_Notes_7.pdf', 'page': 1}), 0.23779861701735017), (Document(page_content=\"Subject:  Medical Science Liaison (MSL) Notes - Critical Discussion on Prolifixin  \\nDate:  September 15, 2023  \\nProvider:  Dr. Robert Hernandez  \\nTitle:  Hematologist -Oncologist  \\nInstitution:  Unity Cancer Institute  \\nSummary of Key Discussion Points:  \\n1. Introduction:  \\n• Introduced Prolifixin as an advanced targeted therapy for hematologic malignancies.  \\n• Dr. Hernandez expressed reservations about the necessity of introducing a new therapy \\ngiven the existing treatment landscape.  \\n2. Provider's Current Patient Cases:  \\n• Dr. Hernandez shared concerns about limited observed responses in his current patients \\nundergoin g Prolifixin treatment.  \\n• Discussed perceived challenges in achieving sustained remissions compared to \\nconventional therapies.  \\n3. Efficacy and Clinical Data:  \\n• Presented data showcasing Prolifixin's efficacy in achieving a 30% reduction in tumor \\nsize.  \\n• Dr. Hernand ez questioned the clinical significance of the reported reduction and \\nexpressed doubts about its practical impact on patient outcomes.  \\n4. Safety Profile:  \\n• Discussed the favorable safety profile of Prolifixin, emphasizing low rates of common \\nside effects.  \\n• Dr. H ernandez raised concerns about the potential for rare side effects and their \\nunderrepresentation in current data.  \\n5. Mechanism of Action:  \\n• Explained Prolifixin's unique mechanism targeting specific cancer cell signaling \\npathways.  \\n• Dr. Hernandez challenged the d rug's specificity, questioning potential off -target effects \\nand their long -term consequences.  \\n6. Patient Adherence and Education:  \\n• Dr. Hernandez expressed skepticism about the sustainability of patient adherence to \\nProlifixin due to perceived limited benefits.  \\n• Discussed patient feedback indicating a preference for conventional chemotherapy due \\nto established efficacy.\", metadata={'source': '../../../data/call_notes/MSL_Notes_7.pdf', 'page': 0}), 0.24002699613410128)]\n",
      "--------------------------------------------------------------------------------\n",
      "Score:  0.23779861701735017\n",
      "7. Emerging Research and Future Developments:  \n",
      "• Highlighted ongoing research on Prolifixin's potential in refractory cases.  \n",
      "• Dr. Hernandez questioned t he rationale behind continuing research without addressing \n",
      "existing concerns.  \n",
      "8. Competitive Landscape:  \n",
      "• Compared Prolifixin to established therapies for hematologic malignancies.  \n",
      "• Discussed the challenges of introducing a new drug without clear advantages over \n",
      "existing options.  \n",
      "9. Access and Reimbursement:  \n",
      "• Dr. Hernandez expressed concerns about the cost -effectiveness of Prolifixin, especially \n",
      "given existing therapeutic alternatives.  \n",
      "• Shared reservations about potential financial burdens on patients and healthcare \n",
      "systems.  \n",
      "10. Action Items and Follow -Up: \n",
      "• Dr. Hernandez did not express interest in further collaboration or follow -up. \n",
      "• Agreed to remain open to future data and evidence but expresse d skepticism about the \n",
      "drug's practical impact.  \n",
      "11. Closing Remarks:  \n",
      "• Acknowledged Dr. Hernandez's concerns and thanked him for his candid feedback.  \n",
      "• Expressed understanding and committed to addressing ongoing questions or concerns \n",
      "as the drug's development prog resses.\n",
      "--------------------------------------------------------------------------------\n",
      "--------------------------------------------------------------------------------\n",
      "Score:  0.23779861701735017\n",
      "7. Emerging Research and Future Developments:  \n",
      "• Highlighted ongoing research on Prolifixin's potential in refractory cases.  \n",
      "• Dr. Hernandez questioned t he rationale behind continuing research without addressing \n",
      "existing concerns.  \n",
      "8. Competitive Landscape:  \n",
      "• Compared Prolifixin to established therapies for hematologic malignancies.  \n",
      "• Discussed the challenges of introducing a new drug without clear advantages over \n",
      "existing options.  \n",
      "9. Access and Reimbursement:  \n",
      "• Dr. Hernandez expressed concerns about the cost -effectiveness of Prolifixin, especially \n",
      "given existing therapeutic alternatives.  \n",
      "• Shared reservations about potential financial burdens on patients and healthcare \n",
      "systems.  \n",
      "10. Action Items and Follow -Up: \n",
      "• Dr. Hernandez did not express interest in further collaboration or follow -up. \n",
      "• Agreed to remain open to future data and evidence but expresse d skepticism about the \n",
      "drug's practical impact.  \n",
      "11. Closing Remarks:  \n",
      "• Acknowledged Dr. Hernandez's concerns and thanked him for his candid feedback.  \n",
      "• Expressed understanding and committed to addressing ongoing questions or concerns \n",
      "as the drug's development prog resses.\n",
      "--------------------------------------------------------------------------------\n",
      "--------------------------------------------------------------------------------\n",
      "Score:  0.24002699613410128\n",
      "Subject:  Medical Science Liaison (MSL) Notes - Critical Discussion on Prolifixin  \n",
      "Date:  September 15, 2023  \n",
      "Provider:  Dr. Robert Hernandez  \n",
      "Title:  Hematologist -Oncologist  \n",
      "Institution:  Unity Cancer Institute  \n",
      "Summary of Key Discussion Points:  \n",
      "1. Introduction:  \n",
      "• Introduced Prolifixin as an advanced targeted therapy for hematologic malignancies.  \n",
      "• Dr. Hernandez expressed reservations about the necessity of introducing a new therapy \n",
      "given the existing treatment landscape.  \n",
      "2. Provider's Current Patient Cases:  \n",
      "• Dr. Hernandez shared concerns about limited observed responses in his current patients \n",
      "undergoin g Prolifixin treatment.  \n",
      "• Discussed perceived challenges in achieving sustained remissions compared to \n",
      "conventional therapies.  \n",
      "3. Efficacy and Clinical Data:  \n",
      "• Presented data showcasing Prolifixin's efficacy in achieving a 30% reduction in tumor \n",
      "size.  \n",
      "• Dr. Hernand ez questioned the clinical significance of the reported reduction and \n",
      "expressed doubts about its practical impact on patient outcomes.  \n",
      "4. Safety Profile:  \n",
      "• Discussed the favorable safety profile of Prolifixin, emphasizing low rates of common \n",
      "side effects.  \n",
      "• Dr. H ernandez raised concerns about the potential for rare side effects and their \n",
      "underrepresentation in current data.  \n",
      "5. Mechanism of Action:  \n",
      "• Explained Prolifixin's unique mechanism targeting specific cancer cell signaling \n",
      "pathways.  \n",
      "• Dr. Hernandez challenged the d rug's specificity, questioning potential off -target effects \n",
      "and their long -term consequences.  \n",
      "6. Patient Adherence and Education:  \n",
      "• Dr. Hernandez expressed skepticism about the sustainability of patient adherence to \n",
      "Prolifixin due to perceived limited benefits.  \n",
      "• Discussed patient feedback indicating a preference for conventional chemotherapy due \n",
      "to established efficacy.\n",
      "--------------------------------------------------------------------------------\n"
     ]
    }
   ],
   "source": [
    "# query it, note that the score here is a distance metric (lower is more related)\n",
    "query = \"What do patients say about Prolifixin?\"\n",
    "docs_with_scores = db.similarity_search_with_score(query, k = 3)\n",
    "\n",
    "print(docs_with_scores)\n",
    "# print results\n",
    "for doc, score in docs_with_scores:\n",
    "    print(\"-\" * 80)\n",
    "    print(\"Score: \", score)\n",
    "    print(doc.page_content)\n",
    "    print(\"-\" * 80)"
   ]
  },
  {
   "cell_type": "markdown",
   "id": "cab3253c-6c01-41e7-b0a8-2b38f3a894c4",
   "metadata": {},
   "source": [
    "# Appendix\n",
    "\n",
    "## LangChain Documentation for PGVector\n",
    "\n",
    "https://python.langchain.com/docs/integrations/vectorstores/pgvector\n",
    "\n",
    "https://api.python.langchain.com/en/latest/vectorstores/langchain.vectorstores.pgvector.PGVector.html\n",
    "\n",
    "## LangChain DB Schema for Embeddings\n",
    "\n",
    "### Table Schema of Collection\n",
    "\n",
    "```\n",
    "Table \"public.langchain_pg_collection\"\n",
    "  Column   |       Type        | Collation | Nullable | Default \n",
    "-----------+-------------------+-----------+----------+---------\n",
    " name      | character varying |           |          | \n",
    " cmetadata | json              |           |          | \n",
    " uuid      | uuid              |           | not null | \n",
    "Indexes:\n",
    "    \"langchain_pg_collection_pkey\" PRIMARY KEY, btree (uuid)\n",
    "Referenced by:\n",
    "    TABLE \"langchain_pg_embedding\" CONSTRAINT \"langchain_pg_embedding_collection_id_fkey\" FOREIGN KEY (collection_id) REFERENCES langchain_pg_collection(uuid) ON DELETE CASCADE\n",
    "```\n",
    "\n",
    "### Table Schema of Embeddings\n",
    "\n",
    "```\n",
    "              Table \"public.langchain_pg_embedding\"\n",
    "    Column     |       Type        | Collation | Nullable | Default \n",
    "---------------+-------------------+-----------+----------+---------\n",
    " collection_id | uuid              |           |          | \n",
    " embedding     | vector            |           |          | \n",
    " document      | character varying |           |          | \n",
    " cmetadata     | json              |           |          | \n",
    " custom_id     | character varying |           |          | \n",
    " uuid          | uuid              |           | not null | \n",
    "Indexes:\n",
    "    \"langchain_pg_embedding_pkey\" PRIMARY KEY, btree (uuid)\n",
    "Foreign-key constraints:\n",
    "    \"langchain_pg_embedding_collection_id_fkey\" FOREIGN KEY (collection_id) REFERENCES langchain_pg_collection(uuid) ON DELETE CASCADE\n",
    "```"
   ]
  }
 ],
 "metadata": {
  "kernelspec": {
   "display_name": "course-env",
   "language": "python",
   "name": "python3"
  },
  "language_info": {
   "name": "python",
   "version": "3.11.9"
  }
 },
 "nbformat": 4,
 "nbformat_minor": 5
}
