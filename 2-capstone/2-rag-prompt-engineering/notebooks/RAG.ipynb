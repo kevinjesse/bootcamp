{
 "cells": [
  {
   "cell_type": "markdown",
   "id": "c5f7b71f-22f3-4a68-8d50-7b3aaaf73fe8",
   "metadata": {},
   "source": [
    "# Retrieval Augmented Generation (RAG) Using our Vector DB\n",
    "\n",
    "In section I, we built a Vector DB to allow for retrieval of similar documents.  This direct followup will show how to use the Vector DB to enhance our prompts with additional context before we put it into a Large Language Model.  \n",
    "\n",
    "The notebook follows as:\n",
    "\n",
    "1. RAG Conceptually\n",
    "   - Question-Answering using Large Language Models\n",
    "   - Retrieval of Relevant Documents for a Query\n",
    "   - Question-Answering using RAG for Document Context\n",
    "2. Using built-in LangChain RAG prompts and Vectors"
   ]
  },
  {
   "cell_type": "markdown",
   "id": "5a72e2ea-4066-41f3-ad65-8cffe5cbbb45",
   "metadata": {},
   "source": [
    "## 1. RAG Conceptually\n",
    "\n",
    "Large Language Models have proven to be very good at general question and answering tasks.  However, a main limitation of many LLMs is that they are generally constrained to the data that they are initially trained on.  Without access to an external data source, LLMs cannot bring in new information, whether this is proprietary domain specific knowledge or just an update on an existing knowledge base.  Given that, how can we enable LLMs to be updated with new information while leveraging the powerful language properties?\n",
    "\n",
    "One solution to this Retrieval Augumented Generation (RAG).  In RAG, we leverage the fact that LLMs can be prompted with additional context data to add additional relevant context to a given query before we pass it into the model.  The old pipeline would be:\n",
    "\n",
    "```\n",
    "Query ------> LLM\n",
    "```\n",
    "\n",
    "which with RAG will be updated to\n",
    "\n",
    "```\n",
    "Query ------> Retrieve Relevant Documents ------> Augmented Query ------> LLM\n",
    "```\n",
    "\n",
    "We will retrieve relevant documents using the knowledge base we built with the Vector DB."
   ]
  },
  {
   "cell_type": "markdown",
   "id": "11dd74da-3a1a-4d2d-98a0-1e2cd14d45d6",
   "metadata": {},
   "source": [
    "### Question-Answering using Large Language Models\n",
    "\n",
    "We start by looking at a question answering system that simply asks the LLM a question.  In this case, if the model doesn't already know the answer, then there's not much way to inject that knowledge into the model.  Some models may immediately identify that there's not enough context while other models may go off rails and hallucinate.\n"
   ]
  },
  {
   "cell_type": "code",
   "execution_count": 1,
   "id": "5aba12d4-0b6b-4632-886a-22f7b6619698",
   "metadata": {},
   "outputs": [
    {
     "name": "stderr",
     "output_type": "stream",
     "text": [
      "/home/kevinjesse/.local/lib/python3.11/site-packages/tqdm/auto.py:21: TqdmWarning: IProgress not found. Please update jupyter and ipywidgets. See https://ipywidgets.readthedocs.io/en/stable/user_install.html\n",
      "  from .autonotebook import tqdm as notebook_tqdm\n"
     ]
    }
   ],
   "source": [
    "import torch\n",
    "from transformers import AutoModelForCausalLM, AutoTokenizer, pipeline"
   ]
  },
  {
   "cell_type": "code",
   "execution_count": 3,
   "id": "cee6de56-c4d6-49d6-8de3-dae631370833",
   "metadata": {},
   "outputs": [
    {
     "name": "stderr",
     "output_type": "stream",
     "text": [
      "The `load_in_4bit` and `load_in_8bit` arguments are deprecated and will be removed in the future versions. Please, pass a `BitsAndBytesConfig` object in `quantization_config` argument instead.\n",
      "Downloading shards: 100%|██████████| 2/2 [06:09<00:00, 184.64s/it]\n",
      "Loading checkpoint shards: 100%|██████████| 2/2 [00:05<00:00,  2.62s/it]\n"
     ]
    }
   ],
   "source": [
    "# THE FIRST TIME YOU RUN THIS, IT MIGHT TAKE A WHILE\n",
    "\n",
    "model_path_or_id = \"mistralai/Mistral-7B-Instruct-v0.1\"\n",
    "tokenizer = AutoTokenizer.from_pretrained(model_path_or_id)\n",
    "model = AutoModelForCausalLM.from_pretrained(\n",
    "    model_path_or_id,\n",
    "    low_cpu_mem_usage=True,\n",
    "    torch_dtype=torch.float16,\n",
    "    bnb_4bit_compute_dtype=torch.float16,\n",
    "    attn_implementation=\"flash_attention_2\",\n",
    "    load_in_4bit=True\n",
    ")\n",
    "\n",
    "def generate(prompt):\n",
    "    \"\"\"Convenience function for generating model output\"\"\"\n",
    "    # Tokenize the input\n",
    "    input_ids = tokenizer(\n",
    "        prompt, \n",
    "        return_tensors=\"pt\", \n",
    "        truncation=True).input_ids.cuda()\n",
    "    \n",
    "    # Generate new tokens based on the prompt, up to max_new_tokens\n",
    "    # Sample aacording to the parameter\n",
    "    with torch.inference_mode():\n",
    "        outputs = model.generate(\n",
    "            input_ids=input_ids, \n",
    "            max_new_tokens=100, \n",
    "            do_sample=True, \n",
    "            top_p=0.9,\n",
    "            temperature=0.9,\n",
    "            use_cache=True\n",
    "        )\n",
    "    return tokenizer.batch_decode(outputs.detach().cpu().numpy(), skip_special_tokens=True)[0][len(prompt):]"
   ]
  },
  {
   "cell_type": "markdown",
   "id": "3df20081-5efd-49f8-8a75-6985d0a553ae",
   "metadata": {},
   "source": [
    "Let's ask it a very general question because the ChatGPT has been trained on a huge amount of data and providing any specifics in the question will likely result in a correct answer.  In this situation, the model can't possibly ground itself because it doesn't know the context - yet it will still answer with something that it has."
   ]
  },
  {
   "cell_type": "code",
   "execution_count": 4,
   "id": "6d6253ce-3580-42db-8eaa-8421f321738d",
   "metadata": {},
   "outputs": [
    {
     "name": "stderr",
     "output_type": "stream",
     "text": [
      "Asking to truncate to max_length but no maximum length is provided and the model has no predefined maximum length. Default to no truncation.\n",
      "The attention mask and the pad token id were not set. As a consequence, you may observe unexpected behavior. Please pass your input's `attention_mask` to obtain reliable results.\n",
      "Setting `pad_token_id` to `eos_token_id`:2 for open-end generation.\n"
     ]
    },
    {
     "name": "stdout",
     "output_type": "stream",
     "text": [
      "Prompt:\n",
      "\n",
      "    Question: What's the efficacy of NeuroGlyde?\n",
      "\n",
      "    Answer: \n",
      "\n",
      "\n",
      "Generated Response:\n",
      "    NeuroGlyde is a dietary supplement that claims to improve memory and cognitive function by providing the body with the nutrients it needs to produce neurotransmitters, such as dopamine, serotonin, and acetylcholine. These neurotransmitters are responsible for the proper functioning of the brain and the communication between neurons. \n",
      "\n",
      "    While NeuroGlyde is not a magic cure-all for memory and cognitive function, there is some\n"
     ]
    }
   ],
   "source": [
    "# Prepare the input for for tokenization, attach any prompt that should be needed\n",
    "PROMPT_TEMPLATE = \"\"\"\n",
    "    Question: {query}\n",
    "\n",
    "    Answer: \n",
    "\"\"\"\n",
    "\n",
    "query = \"What's the efficacy of NeuroGlyde?\"\n",
    "prompt = PROMPT_TEMPLATE.format(query = query)\n",
    "\n",
    "res = generate(prompt)\n",
    "\n",
    "print(f\"Prompt:\\n{prompt}\\n\")\n",
    "print(f\"Generated Response:\\n{res}\")"
   ]
  },
  {
   "cell_type": "markdown",
   "id": "da026b3e-c31d-4714-bf43-50e6178b3293",
   "metadata": {},
   "source": [
    "It doesn't know the context, so let's provide it the context.  Which context should we provide?  The context will be retrieved from our vector databse.\n",
    "\n",
    "We will retrieve the relevant documents to this question, inject it into the prompt, and send that to the model instead."
   ]
  },
  {
   "cell_type": "markdown",
   "id": "bbfc40c8-bfac-45ca-a3fe-01d4a21873ba",
   "metadata": {},
   "source": [
    "### Retrieval of Relevant Documents for a Query\n",
    "\n",
    "We'll briefly revisit our code to retrieve documents from our previous example.  This Vector DB has already been populated with a set of documents."
   ]
  },
  {
   "cell_type": "code",
   "execution_count": 5,
   "id": "077a54f3-d587-4888-9181-db8f6d8ee10b",
   "metadata": {},
   "outputs": [],
   "source": [
    "from typing import List, Dict\n",
    "from langchain.vectorstores.pgvector import PGVector\n",
    "\n",
    "from langchain.embeddings.sentence_transformer import SentenceTransformerEmbeddings"
   ]
  },
  {
   "cell_type": "code",
   "execution_count": 6,
   "id": "2db092bd-47a2-4d5f-939d-97cdaf280331",
   "metadata": {},
   "outputs": [
    {
     "name": "stderr",
     "output_type": "stream",
     "text": [
      "/home/kevinjesse/.local/lib/python3.11/site-packages/langchain_core/_api/deprecation.py:119: LangChainPendingDeprecationWarning: This class is pending deprecation and may be removed in a future version. You can swap to using the `PGVector` implementation in `langchain_postgres`. Please read the guidelines in the doc-string of this class to follow prior to migrating as there are some differences between the implementations. See https://github.com/langchain-ai/langchain-postgres for details aboutthe new implementation.\n",
      "  warn_deprecated(\n",
      "/home/kevinjesse/.local/lib/python3.11/site-packages/langchain_community/vectorstores/pgvector.py:322: LangChainPendingDeprecationWarning: Please use JSONB instead of JSON for metadata. This change will allow for more efficient querying that involves filtering based on metadata.Please note that filtering operators have been changed when using JSOB metadata to be prefixed with a $ sign to avoid name collisions with columns. If you're using an existing database, you will need to create adb migration for your metadata column to be JSONB and update your queries to use the new operators. \n",
      "  warn_deprecated(\n"
     ]
    }
   ],
   "source": [
    "# The connection to the database\n",
    "CONNECTION_STRING = PGVector.connection_string_from_db_params(\n",
    "    driver= \"psycopg2\",\n",
    "    host = \"localhost\",\n",
    "    port = \"5432\",\n",
    "    database = \"postgres\",\n",
    "    user= \"username\",\n",
    "    password=\"password\"\n",
    ")\n",
    "\n",
    "# The embedding function that will be used to store into the database\n",
    "embedding_function = SentenceTransformerEmbeddings(\n",
    "    model_name=\"BAAI/bge-large-en-v1.5\",\n",
    "    model_kwargs = {'device': 'cuda'},\n",
    "    encode_kwargs = {'normalize_embeddings': True}\n",
    ")\n",
    "\n",
    "# Creates the database connection to our existing DB\n",
    "db = PGVector(\n",
    "    connection_string = CONNECTION_STRING,\n",
    "    collection_name = \"embeddings\",\n",
    "    embedding_function = embedding_function\n",
    ")"
   ]
  },
  {
   "cell_type": "code",
   "execution_count": 7,
   "id": "f94c6570-2ce5-4fc1-ba05-c23a85759835",
   "metadata": {},
   "outputs": [
    {
     "name": "stdout",
     "output_type": "stream",
     "text": [
      "--------------------------------------------------------------------------------\n",
      "Score:  0.26277288642252317\n",
      "Subject:  Medical Science Liaison (MSL) Notes - In-Depth Discussion on NeuroGlyde  \n",
      "Date:  April 10, 2023  \n",
      "Provider:  Dr. James Harper  \n",
      "Title:  Neurologist  \n",
      "Institution:  City Neurology Clinic  \n",
      "Summary of Key Discussion Points:  \n",
      "1. Introduction:  \n",
      "• Introduced NeuroGlyde, a novel neuroprotective agent, emphasizing its potential in \n",
      "slowing disease progression.  \n",
      "• Discussed ongoing clinical trials and positive early -phase results.  \n",
      "2. Provider's Current Patient C ases:  \n",
      "• Explored Dr. Harper's experience with NeuroGlyde in treating neurodegenerative \n",
      "disorders.  \n",
      "• Discussed improvements in cognitive function observed in Alzheimer's patients.  \n",
      "3. Efficacy and Clinical Data:  \n",
      "• Presented data demonstrating a 40% reduction in annualized relapse rates in multiple \n",
      "sclerosis patients.  \n",
      "• Highlighted significant improvements in quality of life measures.  \n",
      "4. Safety Profile:  \n",
      "• Discussed the favorable safety profile of NeuroGlyde, with no serious  adverse events \n",
      "reported in long -term studies.  \n",
      "• Addressed concerns related to potential neurological side effects.  \n",
      "5. Mechanism of Action:  \n",
      "• Explained NeuroGlyde's unique mechanism targeting neuroinflammation.  \n",
      "• Quantified its efficacy by discussing a 30% reductio n in inflammatory biomarkers.  \n",
      "6. Patient Adherence and Education:  \n",
      "• Explored strategies for enhancing patient adherence, including simplified dosing \n",
      "regimens.  \n",
      "• Shared educational materials tailored for both patients and caregivers.  \n",
      "7. Emerging Research and Future D evelopments:  \n",
      "• Highlighted ongoing research on NeuroGlyde's potential in Parkinson's disease.  \n",
      "• Discussed plans for expanded access programs and patient registries.  \n",
      "8. Competitive Landscape:\n",
      "--------------------------------------------------------------------------------\n"
     ]
    }
   ],
   "source": [
    "# query it, note that the score here is a distance metric (lower is more related)\n",
    "query = \"What's the efficacy of NeuroGlyde?\"\n",
    "docs_with_scores = db.similarity_search_with_score(query, k = 1)\n",
    "\n",
    "# print results\n",
    "for doc, score in docs_with_scores:\n",
    "    print(\"-\" * 80)\n",
    "    print(\"Score: \", score)\n",
    "    print(doc.page_content)\n",
    "    print(\"-\" * 80)"
   ]
  },
  {
   "cell_type": "markdown",
   "id": "5257a0ee-96bb-4729-8c25-5141628ad349",
   "metadata": {},
   "source": [
    "When we query, we get the most relevant document for this query.  Let's create a new prompt that can take this new context. "
   ]
  },
  {
   "cell_type": "markdown",
   "id": "78e12fbf-d932-4e61-a382-9c02b9eb0674",
   "metadata": {},
   "source": [
    "### Question-Answering using RAG for Document Context"
   ]
  },
  {
   "cell_type": "code",
   "execution_count": 8,
   "id": "a55311ce-5281-42c7-a199-2d316be10d8b",
   "metadata": {},
   "outputs": [
    {
     "name": "stderr",
     "output_type": "stream",
     "text": [
      "The attention mask and the pad token id were not set. As a consequence, you may observe unexpected behavior. Please pass your input's `attention_mask` to obtain reliable results.\n",
      "Setting `pad_token_id` to `eos_token_id`:2 for open-end generation.\n"
     ]
    },
    {
     "name": "stdout",
     "output_type": "stream",
     "text": [
      "Prompt:\n",
      "\n",
      "Answer the question using only this context:\n",
      "\n",
      "Context: Subject:  Medical Science Liaison (MSL) Notes - In-Depth Discussion on NeuroGlyde  \n",
      "Date:  April 10, 2023  \n",
      "Provider:  Dr. James Harper  \n",
      "Title:  Neurologist  \n",
      "Institution:  City Neurology Clinic  \n",
      "Summary of Key Discussion Points:  \n",
      "1. Introduction:  \n",
      "• Introduced NeuroGlyde, a novel neuroprotective agent, emphasizing its potential in \n",
      "slowing disease progression.  \n",
      "• Discussed ongoing clinical trials and positive early -phase results.  \n",
      "2. Provider's Current Patient C ases:  \n",
      "• Explored Dr. Harper's experience with NeuroGlyde in treating neurodegenerative \n",
      "disorders.  \n",
      "• Discussed improvements in cognitive function observed in Alzheimer's patients.  \n",
      "3. Efficacy and Clinical Data:  \n",
      "• Presented data demonstrating a 40% reduction in annualized relapse rates in multiple \n",
      "sclerosis patients.  \n",
      "• Highlighted significant improvements in quality of life measures.  \n",
      "4. Safety Profile:  \n",
      "• Discussed the favorable safety profile of NeuroGlyde, with no serious  adverse events \n",
      "reported in long -term studies.  \n",
      "• Addressed concerns related to potential neurological side effects.  \n",
      "5. Mechanism of Action:  \n",
      "• Explained NeuroGlyde's unique mechanism targeting neuroinflammation.  \n",
      "• Quantified its efficacy by discussing a 30% reductio n in inflammatory biomarkers.  \n",
      "6. Patient Adherence and Education:  \n",
      "• Explored strategies for enhancing patient adherence, including simplified dosing \n",
      "regimens.  \n",
      "• Shared educational materials tailored for both patients and caregivers.  \n",
      "7. Emerging Research and Future D evelopments:  \n",
      "• Highlighted ongoing research on NeuroGlyde's potential in Parkinson's disease.  \n",
      "• Discussed plans for expanded access programs and patient registries.  \n",
      "8. Competitive Landscape:\n",
      "\n",
      "Question: What's the efficacy of NeuroGlyde?\n",
      "\n",
      "Answer: \n",
      "\n",
      "\n",
      "Generated Response:\n",
      "\n",
      "NeuroGlyde has shown a 40% reduction in annualized relapse rates in multiple sclerosis patients, and significant improvements in quality of life measures. In Alzheimer's patients, improvements in cognitive function have been observed. Additionally, NeuroGlyde has a favorable safety profile, with no serious adverse events reported in long-term studies. Its unique mechanism targets neuroinflammation and results in a 30% reduction in inflam\n"
     ]
    }
   ],
   "source": [
    "# Prepare the input for for tokenization, attach any prompt that should be needed\n",
    "RAG_PROMPT_TEMPLATE = \"\"\"\n",
    "Answer the question using only this context:\n",
    "\n",
    "Context: {context}\n",
    "\n",
    "Question: {query}\n",
    "\n",
    "Answer: \n",
    "\"\"\"\n",
    "\n",
    "query = \"What's the efficacy of NeuroGlyde?\"\n",
    "docs_with_scores = db.similarity_search_with_score(query, k = 1)\n",
    "context_prompt = RAG_PROMPT_TEMPLATE.format(\n",
    "    context = docs_with_scores[0][0].page_content,\n",
    "    query = query\n",
    ")\n",
    "\n",
    "res = generate(context_prompt)\n",
    "\n",
    "print(f\"Prompt:\\n{context_prompt}\\n\")\n",
    "print(f\"Generated Response:\\n{res}\")"
   ]
  },
  {
   "cell_type": "markdown",
   "id": "4339ebf9-67f5-42f4-851d-3ef233c0d296",
   "metadata": {},
   "source": [
    "That's it! That's the general concept of Retrieval Augmented Generation."
   ]
  },
  {
   "cell_type": "markdown",
   "id": "689c1977-6931-4399-bb03-51b39d4a16d8",
   "metadata": {},
   "source": [
    "## Using built in LangChain RAG chains instead\n",
    "\n",
    "LangChain contains many built-in methods that have connectivity to Vector Databases and LLMs.  In the example above, we built a custom prompt template and manually retrieved the document, then put it into the chain.  While pretty simple, with LangChain, this can all be pipelined together and more can be done, such as retrieving meta-data and sources."
   ]
  },
  {
   "cell_type": "code",
   "execution_count": 9,
   "id": "1eeba65f-56b7-49a0-a5f4-7e217aa70173",
   "metadata": {},
   "outputs": [],
   "source": [
    "from operator import itemgetter\n",
    "from langchain.schema import StrOutputParser\n",
    "from langchain.prompts import PromptTemplate\n",
    "from langchain.schema.runnable import RunnablePassthrough\n",
    "from langchain.schema.runnable import RunnableParallel\n",
    "from langchain.llms.huggingface_pipeline import HuggingFacePipeline\n",
    "\n",
    "# Turn our db into a retriever\n",
    "retriever = db.as_retriever(search_kwargs = {'k' : 2})\n",
    "\n",
    "# Turn our model into an LLM\n",
    "pipe = pipeline(\n",
    "    \"text-generation\", \n",
    "    model=model, \n",
    "    tokenizer=tokenizer, \n",
    "    max_new_tokens=100)\n",
    "llm = HuggingFacePipeline(pipeline=pipe)\n",
    "\n",
    "prompt_template = PromptTemplate.from_template(\"\"\"\n",
    "Answer the question using only this context:\n",
    "\n",
    "Context: {context}\n",
    "\n",
    "Question: {question}\n",
    "\n",
    "Answer: \n",
    "\"\"\")                                    "
   ]
  },
  {
   "cell_type": "code",
   "execution_count": 11,
   "id": "1d8dbc34-26a8-4719-befe-747dc4e95510",
   "metadata": {},
   "outputs": [],
   "source": [
    "def format_docs(docs):\n",
    "    return \"\\n\\n\".join(doc.page_content for doc in docs)\n",
    "\n",
    "# Build a chain with multiple documents for RAG\n",
    "rag_chain_from_docs = (\n",
    "    {\n",
    "        \"context\": lambda input: format_docs(input[\"documents\"]),\n",
    "        \"question\": itemgetter(\"question\"),\n",
    "    }\n",
    "    | prompt_template\n",
    "    | llm\n",
    "    | StrOutputParser()\n",
    ")\n",
    "\n",
    "# 2-step chain, first retrieve documents\n",
    "# Then take those documents and store relevant infomration in `document_sources`\n",
    "# Pass the prompt into the document chain\n",
    "rag_chain_with_source = RunnableParallel({\n",
    "    \"documents\": retriever, \n",
    "     \"question\": RunnablePassthrough()\n",
    "}) | {\n",
    "    \"sources\": lambda input: [(doc.page_content, doc.metadata) for doc in input[\"documents\"]],\n",
    "    \"answer\": rag_chain_from_docs,\n",
    "}"
   ]
  },
  {
   "cell_type": "code",
   "execution_count": 12,
   "id": "d9c1d7ba-0058-4eed-a21b-9f18f3a6b50e",
   "metadata": {},
   "outputs": [
    {
     "name": "stderr",
     "output_type": "stream",
     "text": [
      "Setting `pad_token_id` to `eos_token_id`:2 for open-end generation.\n"
     ]
    }
   ],
   "source": [
    "res = rag_chain_with_source.invoke(\"What's the efficacy of Pentatryponal?\")"
   ]
  },
  {
   "cell_type": "code",
   "execution_count": 13,
   "id": "f57f8327-9b13-4ee1-bb1b-9dd84eddb4cb",
   "metadata": {},
   "outputs": [
    {
     "name": "stdout",
     "output_type": "stream",
     "text": [
      "\n",
      "Answer the question using only this context:\n",
      "\n",
      "Context: Subject:  Medical Science Liaison (MSL) Notes - Skepticism and Concerns on NeuroSolvix  \n",
      "Date: April 30, 202 3 \n",
      "Provider:  Dr. Cynthia Rodriguez  \n",
      "Title:  Pain Management Specialist  \n",
      "Institution:  NerveEase Pain Clinic  \n",
      "Summary of Key Discussion Points:  \n",
      "1. Introduction:  \n",
      "• Introduced NeuroSolvix as a potential therapy for neuropathic pain management.  \n",
      "• Dr. Rodriguez expressed skepticism, questioning the need for another medication in an \n",
      "already crowded pain management landscape.  \n",
      "2. Provider's Current Patient Cases:  \n",
      "• Dr. Rodriguez shared concerns about introducing new medications without clear \n",
      "superiority ove r existing neuropathic pain treatments.  \n",
      "• Discussed specific cases where current therapies have shown established efficacy in pain \n",
      "relief.  \n",
      "3. Efficacy and Clinical Data:  \n",
      "• Presented recent clinical data showcasing NeuroSolvix's reduction in neuropathic pain \n",
      "score s and improved quality of life.  \n",
      "• Dr. Rodriguez questioned the clinical relevance of the reported improvements and \n",
      "sought comparative data against established treatments.  \n",
      "4. Safety Profile:  \n",
      "• Discussed the favorable safety profile of NeuroSolvix, with minimal rep orted adverse \n",
      "effects.  \n",
      "• Dr. Rodriguez expressed concerns about the lack of long -term safety data and potential \n",
      "unforeseen side effects.  \n",
      "5. Mechanism of Action:  \n",
      "• Explained NeuroSolvix's mechanism, focusing on its role in modulating neural \n",
      "hyperactivity and centr al pain pathways.  \n",
      "• Dr. Rodriguez questioned the uniqueness of the mechanism and how it addresses \n",
      "specific pain etiologies not covered by existing treatments.  \n",
      "6. Patient Adherence and Education:  \n",
      "• Discussed strategies for enhancing patient adherence through a twi ce-monthly \n",
      "subcutaneous injection.  \n",
      "• Dr. Rodriguez expressed skepticism about patient compliance, citing concerns about the \n",
      "inconvenience of frequent injections.\n",
      "\n",
      "Subject:  Medical Science Liaison (MSL) Notes - NeuroSolvix in Neuropathic Pain Management  \n",
      "Date:  March  25, 20 23 \n",
      "Provider:  Dr. Joshua Martinez  \n",
      "Title:  Pain Management Specialist  \n",
      "Institution:  PainRelief Clinic  \n",
      "Summary of Key Discussion Points:  \n",
      "1. Introduction:  \n",
      "• Introduced NeuroSolvix as a potential therapy for the management of neuropathic pain.  \n",
      "• Emphasized its unique mechanism targeting central sensitization and neural \n",
      "hyperactivity.  \n",
      "2. Provider's Current Patient Cases:  \n",
      "• Dr. Martinez expressed interest in novel approaches for patients with chronic \n",
      "neuropathic pain.  \n",
      "• Discussed specific cases where current analgesics and neuropathic pain medications \n",
      "have shown limited efficacy or significant side effects.  \n",
      "3. Efficacy and Clinica l Data:  \n",
      "• Presented recent clinical data showcasing NeuroSolvix's ability to reduce neuropathic \n",
      "pain scores by 40% and improve patient -reported quality of life.  \n",
      "• Highlighted statistically significant improvements in pain -related functional outcomes.  \n",
      "4. Safety Pr ofile:  \n",
      "• Discussed the favorable safety profile of NeuroSolvix, with minimal reported adverse \n",
      "effects.  \n",
      "• Dr. Martinez inquired about potential interactions with commonly prescribed pain \n",
      "medications.  \n",
      "5. Mechanism of Action:  \n",
      "• Explained NeuroSolvix's mechanism, focusing on its role in modulating neural \n",
      "hyperactivity and dampening central pain pathways.  \n",
      "• Dr. Martinez appreciated the drug's targeted approach and sought insights into its \n",
      "potential for long -term pain relief.  \n",
      "6. Patient Adherence and Education:  \n",
      "• Discussed strategies for enhancing patient adherence through a twice -monthly \n",
      "subcutaneous injection.  \n",
      "• Shared patient education materials emphasizing the importance of consistent pain \n",
      "management for improved daily functioning.  \n",
      "7. Emergi ng Research and Future Developments:\n",
      "\n",
      "Question: What's the efficacy of Pentatryponal?\n",
      "\n",
      "Answer: \n",
      "\n",
      "The context provided does not mention Pentatryponal. It discusses NeuroSolvix, a potential therapy for neuropathic pain management.\n"
     ]
    }
   ],
   "source": [
    "print(res['answer'])"
   ]
  },
  {
   "cell_type": "code",
   "execution_count": 14,
   "id": "d399f80f-7c00-4496-90e8-7d8d05583de7",
   "metadata": {},
   "outputs": [
    {
     "data": {
      "text/plain": [
       "[(\"Subject:  Medical Science Liaison (MSL) Notes - Skepticism and Concerns on NeuroSolvix  \\nDate: April 30, 202 3 \\nProvider:  Dr. Cynthia Rodriguez  \\nTitle:  Pain Management Specialist  \\nInstitution:  NerveEase Pain Clinic  \\nSummary of Key Discussion Points:  \\n1. Introduction:  \\n• Introduced NeuroSolvix as a potential therapy for neuropathic pain management.  \\n• Dr. Rodriguez expressed skepticism, questioning the need for another medication in an \\nalready crowded pain management landscape.  \\n2. Provider's Current Patient Cases:  \\n• Dr. Rodriguez shared concerns about introducing new medications without clear \\nsuperiority ove r existing neuropathic pain treatments.  \\n• Discussed specific cases where current therapies have shown established efficacy in pain \\nrelief.  \\n3. Efficacy and Clinical Data:  \\n• Presented recent clinical data showcasing NeuroSolvix's reduction in neuropathic pain \\nscore s and improved quality of life.  \\n• Dr. Rodriguez questioned the clinical relevance of the reported improvements and \\nsought comparative data against established treatments.  \\n4. Safety Profile:  \\n• Discussed the favorable safety profile of NeuroSolvix, with minimal rep orted adverse \\neffects.  \\n• Dr. Rodriguez expressed concerns about the lack of long -term safety data and potential \\nunforeseen side effects.  \\n5. Mechanism of Action:  \\n• Explained NeuroSolvix's mechanism, focusing on its role in modulating neural \\nhyperactivity and centr al pain pathways.  \\n• Dr. Rodriguez questioned the uniqueness of the mechanism and how it addresses \\nspecific pain etiologies not covered by existing treatments.  \\n6. Patient Adherence and Education:  \\n• Discussed strategies for enhancing patient adherence through a twi ce-monthly \\nsubcutaneous injection.  \\n• Dr. Rodriguez expressed skepticism about patient compliance, citing concerns about the \\ninconvenience of frequent injections.\",\n",
       "  {'source': '../../../data/call_notes/MSL_Notes_26.pdf', 'page': 0}),\n",
       " (\"Subject:  Medical Science Liaison (MSL) Notes - NeuroSolvix in Neuropathic Pain Management  \\nDate:  March  25, 20 23 \\nProvider:  Dr. Joshua Martinez  \\nTitle:  Pain Management Specialist  \\nInstitution:  PainRelief Clinic  \\nSummary of Key Discussion Points:  \\n1. Introduction:  \\n• Introduced NeuroSolvix as a potential therapy for the management of neuropathic pain.  \\n• Emphasized its unique mechanism targeting central sensitization and neural \\nhyperactivity.  \\n2. Provider's Current Patient Cases:  \\n• Dr. Martinez expressed interest in novel approaches for patients with chronic \\nneuropathic pain.  \\n• Discussed specific cases where current analgesics and neuropathic pain medications \\nhave shown limited efficacy or significant side effects.  \\n3. Efficacy and Clinica l Data:  \\n• Presented recent clinical data showcasing NeuroSolvix's ability to reduce neuropathic \\npain scores by 40% and improve patient -reported quality of life.  \\n• Highlighted statistically significant improvements in pain -related functional outcomes.  \\n4. Safety Pr ofile:  \\n• Discussed the favorable safety profile of NeuroSolvix, with minimal reported adverse \\neffects.  \\n• Dr. Martinez inquired about potential interactions with commonly prescribed pain \\nmedications.  \\n5. Mechanism of Action:  \\n• Explained NeuroSolvix's mechanism, focusing on its role in modulating neural \\nhyperactivity and dampening central pain pathways.  \\n• Dr. Martinez appreciated the drug's targeted approach and sought insights into its \\npotential for long -term pain relief.  \\n6. Patient Adherence and Education:  \\n• Discussed strategies for enhancing patient adherence through a twice -monthly \\nsubcutaneous injection.  \\n• Shared patient education materials emphasizing the importance of consistent pain \\nmanagement for improved daily functioning.  \\n7. Emergi ng Research and Future Developments:\",\n",
       "  {'source': '../../../data/call_notes/MSL_Notes_25.pdf', 'page': 0})]"
      ]
     },
     "execution_count": 14,
     "metadata": {},
     "output_type": "execute_result"
    }
   ],
   "source": [
    "res['sources']"
   ]
  }
 ],
 "metadata": {
  "kernelspec": {
   "display_name": "Python 3 (ipykernel)",
   "language": "python",
   "name": "python3"
  },
  "language_info": {
   "codemirror_mode": {
    "name": "ipython",
    "version": 3
   },
   "file_extension": ".py",
   "mimetype": "text/x-python",
   "name": "python",
   "nbconvert_exporter": "python",
   "pygments_lexer": "ipython3",
   "version": "3.11.9"
  }
 },
 "nbformat": 4,
 "nbformat_minor": 5
}
